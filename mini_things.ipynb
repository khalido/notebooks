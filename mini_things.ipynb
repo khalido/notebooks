{
 "cells": [
  {
   "cell_type": "code",
   "execution_count": 62,
   "metadata": {},
   "outputs": [],
   "source": [
    "test_words = [\"madam\", \"hello\", \"Apple\", \" \"]"
   ]
  },
  {
   "cell_type": "code",
   "execution_count": 63,
   "metadata": {},
   "outputs": [
    {
     "name": "stdout",
     "output_type": "stream",
     "text": [
      "madam True\n",
      "hello False\n",
      "Apple False\n",
      "  True\n"
     ]
    }
   ],
   "source": [
    "def is_palindrome(input_string, verbose=False):\n",
    "    return input_string == input_string[::-1]\n",
    "\n",
    "for word in test_words:\n",
    "    print(word, is_palindrome(word))"
   ]
  },
  {
   "cell_type": "code",
   "execution_count": 64,
   "metadata": {},
   "outputs": [
    {
     "name": "stdout",
     "output_type": "stream",
     "text": [
      "madam      True\n",
      "hello      False\n",
      "Apple      False\n",
      "           True\n"
     ]
    }
   ],
   "source": [
    "def is_palindrome(s, verbose=False):\n",
    "    if len(s) <= 1: return True\n",
    "    mid = len(s) // 2\n",
    "    for i, j in zip(s[:mid], s[mid:][::-1]):\n",
    "        if i != j:\n",
    "            return False\n",
    "    return True\n",
    "\n",
    "for word in test_words:\n",
    "    print(f\"{word:10}\", is_palindrome(word))"
   ]
  },
  {
   "cell_type": "code",
   "execution_count": 79,
   "metadata": {},
   "outputs": [
    {
     "name": "stdout",
     "output_type": "stream",
     "text": [
      "[[1, 2, 3], [4, 5, 6], [7, 8, 9]]\n"
     ]
    },
    {
     "data": {
      "text/plain": [
       "[[7, 8, 9], [4, 5, 6], [1, 2, 3]]"
      ]
     },
     "execution_count": 79,
     "metadata": {},
     "output_type": "execute_result"
    }
   ],
   "source": [
    "t = [[1,2,3],[4,5,6],[7,8,9]]\n",
    "\n",
    "def flip_horizontal_axis(matrix):\n",
    "    return matrix[::-1]\n",
    "\n",
    "print(t)    \n",
    "flip_horizontal_axis(t)"
   ]
  },
  {
   "cell_type": "code",
   "execution_count": 78,
   "metadata": {},
   "outputs": [
    {
     "name": "stdout",
     "output_type": "stream",
     "text": [
      "[[1, 2, 3], [4, 5, 6], [7, 8, 9]]\n"
     ]
    },
    {
     "data": {
      "text/plain": [
       "[[7, 8, 9], [4, 5, 6], [1, 2, 3]]"
      ]
     },
     "execution_count": 78,
     "metadata": {},
     "output_type": "execute_result"
    }
   ],
   "source": [
    "t = [[1,2,3],[4,5,6],[7,8,9]]\n",
    "\n",
    "def flip_horizontal_axis(matrix):\n",
    "    #return matrix[::-1]\n",
    "    for i in range(len(matrix)//2):\n",
    "        matrix[i], matrix[-i-1] = matrix[-i-1], matrix[i]\n",
    "  \n",
    "    return matrix\n",
    "\n",
    "print(t)    \n",
    "flip_horizontal_axis(t)"
   ]
  },
  {
   "cell_type": "code",
   "execution_count": 98,
   "metadata": {},
   "outputs": [
    {
     "name": "stdout",
     "output_type": "stream",
     "text": [
      "[[1, 2, 3], [4, 5, 6], [7, 8, 9]]\n"
     ]
    },
    {
     "data": {
      "text/plain": [
       "[[3, 2, 1], [6, 5, 4], [9, 8, 7]]"
      ]
     },
     "execution_count": 98,
     "metadata": {},
     "output_type": "execute_result"
    }
   ],
   "source": [
    "t = [[1,2,3],[4,5,6],[7,8,9]]\n",
    "\n",
    "def flip_vertical_axis(matrix):\n",
    "    return [l[::-1] for l in matrix]\n",
    "    \n",
    "print(t)\n",
    "flip_vertical_axis(t)"
   ]
  },
  {
   "cell_type": "code",
   "execution_count": 99,
   "metadata": {},
   "outputs": [
    {
     "name": "stdout",
     "output_type": "stream",
     "text": [
      "[[1, 2, 3], [4, 5, 6], [7, 8, 9]]\n"
     ]
    },
    {
     "data": {
      "text/plain": [
       "[[3, 2, 1], [6, 5, 4], [9, 8, 7]]"
      ]
     },
     "execution_count": 99,
     "metadata": {},
     "output_type": "execute_result"
    }
   ],
   "source": [
    "def flip_vertical_axis(matrix):\n",
    "    \n",
    "    ans = []\n",
    "    for row in matrix:\n",
    "        ans.append(row[::-1])\n",
    "    return ans\n",
    "\n",
    "print(t)\n",
    "flip_vertical_axis(t)"
   ]
  },
  {
   "cell_type": "code",
   "execution_count": 102,
   "metadata": {},
   "outputs": [
    {
     "name": "stdout",
     "output_type": "stream",
     "text": [
      "[[1, 2, 3], [4, 5, 6], [7, 8, 9]]\n"
     ]
    },
    {
     "data": {
      "text/plain": [
       "[[3, 2, 1], [6, 5, 4], [9, 8, 7]]"
      ]
     },
     "execution_count": 102,
     "metadata": {},
     "output_type": "execute_result"
    }
   ],
   "source": [
    "# modify in place\n",
    "\n",
    "def flip_vertical_axis(matrix):    \n",
    "    for i in range(len(matrix)):\n",
    "        for j in range(len(matrix[i])//2):\n",
    "            matrix[i][j], matrix[i][-j-1] = matrix[i][-j-1], matrix[i][j]\n",
    "    return matrix\n",
    "\n",
    "print(t)\n",
    "flip_vertical_axis(t)"
   ]
  },
  {
   "cell_type": "markdown",
   "metadata": {},
   "source": [
    "# transponse matrix\n",
    "\n",
    "using `zip`:"
   ]
  },
  {
   "cell_type": "code",
   "execution_count": 4,
   "metadata": {},
   "outputs": [
    {
     "name": "stdout",
     "output_type": "stream",
     "text": [
      "[[1, 2, 3], [4, 5, 6], [7, 8, 9]]\n"
     ]
    },
    {
     "data": {
      "text/plain": [
       "[(1, 4, 7), (2, 5, 8), (3, 6, 9)]"
      ]
     },
     "execution_count": 4,
     "metadata": {},
     "output_type": "execute_result"
    }
   ],
   "source": [
    "matrix = [[1, 2, 3], [4, 5, 6], [7, 8, 9]]\n",
    "print(matrix)\n",
    "list(zip(*matrix))"
   ]
  },
  {
   "cell_type": "markdown",
   "metadata": {},
   "source": [
    "using numpy:"
   ]
  },
  {
   "cell_type": "code",
   "execution_count": 16,
   "metadata": {},
   "outputs": [
    {
     "name": "stdout",
     "output_type": "stream",
     "text": [
      "[[1, 4, 7], [2, 5, 6], [3, 8, 9]]\n"
     ]
    },
    {
     "data": {
      "text/plain": [
       "array([[1, 2, 3],\n",
       "       [4, 5, 8],\n",
       "       [7, 6, 9]])"
      ]
     },
     "execution_count": 16,
     "metadata": {},
     "output_type": "execute_result"
    }
   ],
   "source": [
    "import numpy as np\n",
    "print(matrix)\n",
    "np.transpose(matrix)"
   ]
  },
  {
   "cell_type": "markdown",
   "metadata": {},
   "source": [
    "doing it inplace using python:"
   ]
  },
  {
   "cell_type": "code",
   "execution_count": 19,
   "metadata": {},
   "outputs": [
    {
     "data": {
      "text/plain": [
       "[[1, 4, 7], [2, 5, 8], [3, 6, 9]]"
      ]
     },
     "execution_count": 19,
     "metadata": {},
     "output_type": "execute_result"
    }
   ],
   "source": [
    "matrix = [[1, 2, 3], [4, 5, 6], [7, 8, 9]]\n",
    "\n",
    "def transpose_matrix(matrix):\n",
    "    for i in range(len(matrix)-1):\n",
    "        for j in range(i+1, len(matrix[i])):\n",
    "            matrix[i][j], matrix[j][i] = matrix[j][i], matrix[i][j]\n",
    "    return matrix\n",
    "\n",
    "transpose_matrix(matrix)"
   ]
  },
  {
   "cell_type": "code",
   "execution_count": 20,
   "metadata": {},
   "outputs": [
    {
     "name": "stdout",
     "output_type": "stream",
     "text": [
      "[[1 1 1]\n",
      " [0 0 0]\n",
      " [1 1 1]]\n",
      "[[1, 1, 1], [0, 0, 0], [1, 1, 1]]\n"
     ]
    }
   ],
   "source": [
    "m = [[1, 0, 1], [1, 0, 1], [1, 0, 1]]\n",
    "print(np.transpose(m))\n",
    "print(transpose_matrix(m))"
   ]
  },
  {
   "cell_type": "markdown",
   "metadata": {},
   "source": [
    "# find dupes in a list"
   ]
  },
  {
   "cell_type": "code",
   "execution_count": 8,
   "metadata": {},
   "outputs": [
    {
     "data": {
      "text/plain": [
       "[1, 3]"
      ]
     },
     "execution_count": 8,
     "metadata": {},
     "output_type": "execute_result"
    }
   ],
   "source": [
    "n = [1, 5, 23, 2, 6, 3, 1, 8, 12, 3]\n",
    "ans = []\n",
    "for i in [i for i in n if n.count(i)>1]:\n",
    "    if i not in ans:\n",
    "        ans.append(i)\n",
    "ans"
   ]
  },
  {
   "cell_type": "code",
   "execution_count": 113,
   "metadata": {},
   "outputs": [
    {
     "data": {
      "text/plain": [
       "[1, 3]"
      ]
     },
     "execution_count": 113,
     "metadata": {},
     "output_type": "execute_result"
    }
   ],
   "source": [
    "def duplicate_items(list_numbers):\n",
    "    list_numbers.sort()\n",
    "    return [i for i in set(list_numbers) if list_numbers.count(i) > 1]    \n",
    "\n",
    "duplicate_items(n)"
   ]
  },
  {
   "cell_type": "markdown",
   "metadata": {},
   "source": [
    "# Fib"
   ]
  },
  {
   "cell_type": "code",
   "execution_count": 118,
   "metadata": {},
   "outputs": [
    {
     "data": {
      "text/plain": [
       "55"
      ]
     },
     "execution_count": 118,
     "metadata": {},
     "output_type": "execute_result"
    }
   ],
   "source": [
    "def fib(n):\n",
    "    if n < 2: \n",
    "        return n\n",
    "    \n",
    "    return fib(n-1) + fib(n-2)\n",
    "\n",
    "fib(10) # should be 55"
   ]
  },
  {
   "cell_type": "code",
   "execution_count": null,
   "metadata": {},
   "outputs": [],
   "source": []
  }
 ],
 "metadata": {
  "kernelspec": {
   "display_name": "Python 3",
   "language": "python",
   "name": "python3"
  },
  "language_info": {
   "codemirror_mode": {
    "name": "ipython",
    "version": 3
   },
   "file_extension": ".py",
   "mimetype": "text/x-python",
   "name": "python",
   "nbconvert_exporter": "python",
   "pygments_lexer": "ipython3",
   "version": "3.6.5"
  }
 },
 "nbformat": 4,
 "nbformat_minor": 2
}

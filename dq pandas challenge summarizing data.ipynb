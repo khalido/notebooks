{
 "cells": [
  {
   "cell_type": "code",
   "execution_count": 61,
   "metadata": {
    "collapsed": false
   },
   "outputs": [
    {
     "data": {
      "text/html": [
       "<div>\n",
       "<table border=\"1\" class=\"dataframe\">\n",
       "  <thead>\n",
       "    <tr style=\"text-align: right;\">\n",
       "      <th></th>\n",
       "      <th>Major_code</th>\n",
       "      <th>Major</th>\n",
       "      <th>Major_category</th>\n",
       "      <th>Total</th>\n",
       "      <th>Employed</th>\n",
       "      <th>Employed_full_time_year_round</th>\n",
       "      <th>Unemployed</th>\n",
       "      <th>Unemployment_rate</th>\n",
       "      <th>Median</th>\n",
       "      <th>P25th</th>\n",
       "      <th>P75th</th>\n",
       "    </tr>\n",
       "  </thead>\n",
       "  <tbody>\n",
       "    <tr>\n",
       "      <th>0</th>\n",
       "      <td>1100</td>\n",
       "      <td>GENERAL AGRICULTURE</td>\n",
       "      <td>Agriculture &amp; Natural Resources</td>\n",
       "      <td>128148</td>\n",
       "      <td>90245</td>\n",
       "      <td>74078</td>\n",
       "      <td>2423</td>\n",
       "      <td>0.026147</td>\n",
       "      <td>50000</td>\n",
       "      <td>34000</td>\n",
       "      <td>80000.0</td>\n",
       "    </tr>\n",
       "    <tr>\n",
       "      <th>1</th>\n",
       "      <td>1101</td>\n",
       "      <td>AGRICULTURE PRODUCTION AND MANAGEMENT</td>\n",
       "      <td>Agriculture &amp; Natural Resources</td>\n",
       "      <td>95326</td>\n",
       "      <td>76865</td>\n",
       "      <td>64240</td>\n",
       "      <td>2266</td>\n",
       "      <td>0.028636</td>\n",
       "      <td>54000</td>\n",
       "      <td>36000</td>\n",
       "      <td>80000.0</td>\n",
       "    </tr>\n",
       "    <tr>\n",
       "      <th>2</th>\n",
       "      <td>1102</td>\n",
       "      <td>AGRICULTURAL ECONOMICS</td>\n",
       "      <td>Agriculture &amp; Natural Resources</td>\n",
       "      <td>33955</td>\n",
       "      <td>26321</td>\n",
       "      <td>22810</td>\n",
       "      <td>821</td>\n",
       "      <td>0.030248</td>\n",
       "      <td>63000</td>\n",
       "      <td>40000</td>\n",
       "      <td>98000.0</td>\n",
       "    </tr>\n",
       "    <tr>\n",
       "      <th>3</th>\n",
       "      <td>1103</td>\n",
       "      <td>ANIMAL SCIENCES</td>\n",
       "      <td>Agriculture &amp; Natural Resources</td>\n",
       "      <td>103549</td>\n",
       "      <td>81177</td>\n",
       "      <td>64937</td>\n",
       "      <td>3619</td>\n",
       "      <td>0.042679</td>\n",
       "      <td>46000</td>\n",
       "      <td>30000</td>\n",
       "      <td>72000.0</td>\n",
       "    </tr>\n",
       "    <tr>\n",
       "      <th>4</th>\n",
       "      <td>1104</td>\n",
       "      <td>FOOD SCIENCE</td>\n",
       "      <td>Agriculture &amp; Natural Resources</td>\n",
       "      <td>24280</td>\n",
       "      <td>17281</td>\n",
       "      <td>12722</td>\n",
       "      <td>894</td>\n",
       "      <td>0.049188</td>\n",
       "      <td>62000</td>\n",
       "      <td>38500</td>\n",
       "      <td>90000.0</td>\n",
       "    </tr>\n",
       "  </tbody>\n",
       "</table>\n",
       "</div>"
      ],
      "text/plain": [
       "   Major_code                                  Major  \\\n",
       "0        1100                    GENERAL AGRICULTURE   \n",
       "1        1101  AGRICULTURE PRODUCTION AND MANAGEMENT   \n",
       "2        1102                 AGRICULTURAL ECONOMICS   \n",
       "3        1103                        ANIMAL SCIENCES   \n",
       "4        1104                           FOOD SCIENCE   \n",
       "\n",
       "                    Major_category   Total  Employed  \\\n",
       "0  Agriculture & Natural Resources  128148     90245   \n",
       "1  Agriculture & Natural Resources   95326     76865   \n",
       "2  Agriculture & Natural Resources   33955     26321   \n",
       "3  Agriculture & Natural Resources  103549     81177   \n",
       "4  Agriculture & Natural Resources   24280     17281   \n",
       "\n",
       "   Employed_full_time_year_round  Unemployed  Unemployment_rate  Median  \\\n",
       "0                          74078        2423           0.026147   50000   \n",
       "1                          64240        2266           0.028636   54000   \n",
       "2                          22810         821           0.030248   63000   \n",
       "3                          64937        3619           0.042679   46000   \n",
       "4                          12722         894           0.049188   62000   \n",
       "\n",
       "   P25th    P75th  \n",
       "0  34000  80000.0  \n",
       "1  36000  80000.0  \n",
       "2  40000  98000.0  \n",
       "3  30000  72000.0  \n",
       "4  38500  90000.0  "
      ]
     },
     "execution_count": 61,
     "metadata": {},
     "output_type": "execute_result"
    }
   ],
   "source": [
    "import pandas as pd\n",
    "\n",
    "all_ages = pd.read_csv(\"data/all-ages.csv\") \n",
    "recent_grads = pd.read_csv(\"data/recent-grads.csv\")\n",
    "\n",
    "all_ages.head()"
   ]
  },
  {
   "cell_type": "code",
   "execution_count": 42,
   "metadata": {
    "collapsed": false
   },
   "outputs": [
    {
     "data": {
      "text/plain": [
       "(173, 11)"
      ]
     },
     "execution_count": 42,
     "metadata": {},
     "output_type": "execute_result"
    }
   ],
   "source": [
    "all_ages.shape"
   ]
  },
  {
   "cell_type": "code",
   "execution_count": 60,
   "metadata": {
    "collapsed": false
   },
   "outputs": [
    {
     "data": {
      "text/html": [
       "<div>\n",
       "<table border=\"1\" class=\"dataframe\">\n",
       "  <thead>\n",
       "    <tr style=\"text-align: right;\">\n",
       "      <th></th>\n",
       "      <th>Rank</th>\n",
       "      <th>Major_code</th>\n",
       "      <th>Major</th>\n",
       "      <th>Major_category</th>\n",
       "      <th>Total</th>\n",
       "      <th>Sample_size</th>\n",
       "      <th>Men</th>\n",
       "      <th>Women</th>\n",
       "      <th>ShareWomen</th>\n",
       "      <th>Employed</th>\n",
       "      <th>...</th>\n",
       "      <th>Part_time</th>\n",
       "      <th>Full_time_year_round</th>\n",
       "      <th>Unemployed</th>\n",
       "      <th>Unemployment_rate</th>\n",
       "      <th>Median</th>\n",
       "      <th>P25th</th>\n",
       "      <th>P75th</th>\n",
       "      <th>College_jobs</th>\n",
       "      <th>Non_college_jobs</th>\n",
       "      <th>Low_wage_jobs</th>\n",
       "    </tr>\n",
       "  </thead>\n",
       "  <tbody>\n",
       "    <tr>\n",
       "      <th>0</th>\n",
       "      <td>1</td>\n",
       "      <td>2419</td>\n",
       "      <td>PETROLEUM ENGINEERING</td>\n",
       "      <td>Engineering</td>\n",
       "      <td>2339</td>\n",
       "      <td>36</td>\n",
       "      <td>2057</td>\n",
       "      <td>282</td>\n",
       "      <td>0.120564</td>\n",
       "      <td>1976</td>\n",
       "      <td>...</td>\n",
       "      <td>270</td>\n",
       "      <td>1207</td>\n",
       "      <td>37</td>\n",
       "      <td>0.018381</td>\n",
       "      <td>110000</td>\n",
       "      <td>95000</td>\n",
       "      <td>125000</td>\n",
       "      <td>1534</td>\n",
       "      <td>364</td>\n",
       "      <td>193</td>\n",
       "    </tr>\n",
       "    <tr>\n",
       "      <th>1</th>\n",
       "      <td>2</td>\n",
       "      <td>2416</td>\n",
       "      <td>MINING AND MINERAL ENGINEERING</td>\n",
       "      <td>Engineering</td>\n",
       "      <td>756</td>\n",
       "      <td>7</td>\n",
       "      <td>679</td>\n",
       "      <td>77</td>\n",
       "      <td>0.101852</td>\n",
       "      <td>640</td>\n",
       "      <td>...</td>\n",
       "      <td>170</td>\n",
       "      <td>388</td>\n",
       "      <td>85</td>\n",
       "      <td>0.117241</td>\n",
       "      <td>75000</td>\n",
       "      <td>55000</td>\n",
       "      <td>90000</td>\n",
       "      <td>350</td>\n",
       "      <td>257</td>\n",
       "      <td>50</td>\n",
       "    </tr>\n",
       "    <tr>\n",
       "      <th>2</th>\n",
       "      <td>3</td>\n",
       "      <td>2415</td>\n",
       "      <td>METALLURGICAL ENGINEERING</td>\n",
       "      <td>Engineering</td>\n",
       "      <td>856</td>\n",
       "      <td>3</td>\n",
       "      <td>725</td>\n",
       "      <td>131</td>\n",
       "      <td>0.153037</td>\n",
       "      <td>648</td>\n",
       "      <td>...</td>\n",
       "      <td>133</td>\n",
       "      <td>340</td>\n",
       "      <td>16</td>\n",
       "      <td>0.024096</td>\n",
       "      <td>73000</td>\n",
       "      <td>50000</td>\n",
       "      <td>105000</td>\n",
       "      <td>456</td>\n",
       "      <td>176</td>\n",
       "      <td>0</td>\n",
       "    </tr>\n",
       "    <tr>\n",
       "      <th>3</th>\n",
       "      <td>4</td>\n",
       "      <td>2417</td>\n",
       "      <td>NAVAL ARCHITECTURE AND MARINE ENGINEERING</td>\n",
       "      <td>Engineering</td>\n",
       "      <td>1258</td>\n",
       "      <td>16</td>\n",
       "      <td>1123</td>\n",
       "      <td>135</td>\n",
       "      <td>0.107313</td>\n",
       "      <td>758</td>\n",
       "      <td>...</td>\n",
       "      <td>150</td>\n",
       "      <td>692</td>\n",
       "      <td>40</td>\n",
       "      <td>0.050125</td>\n",
       "      <td>70000</td>\n",
       "      <td>43000</td>\n",
       "      <td>80000</td>\n",
       "      <td>529</td>\n",
       "      <td>102</td>\n",
       "      <td>0</td>\n",
       "    </tr>\n",
       "    <tr>\n",
       "      <th>4</th>\n",
       "      <td>5</td>\n",
       "      <td>2405</td>\n",
       "      <td>CHEMICAL ENGINEERING</td>\n",
       "      <td>Engineering</td>\n",
       "      <td>32260</td>\n",
       "      <td>289</td>\n",
       "      <td>21239</td>\n",
       "      <td>11021</td>\n",
       "      <td>0.341631</td>\n",
       "      <td>25694</td>\n",
       "      <td>...</td>\n",
       "      <td>5180</td>\n",
       "      <td>16697</td>\n",
       "      <td>1672</td>\n",
       "      <td>0.061098</td>\n",
       "      <td>65000</td>\n",
       "      <td>50000</td>\n",
       "      <td>75000</td>\n",
       "      <td>18314</td>\n",
       "      <td>4440</td>\n",
       "      <td>972</td>\n",
       "    </tr>\n",
       "  </tbody>\n",
       "</table>\n",
       "<p>5 rows × 21 columns</p>\n",
       "</div>"
      ],
      "text/plain": [
       "   Rank  Major_code                                      Major Major_category  \\\n",
       "0     1        2419                      PETROLEUM ENGINEERING    Engineering   \n",
       "1     2        2416             MINING AND MINERAL ENGINEERING    Engineering   \n",
       "2     3        2415                  METALLURGICAL ENGINEERING    Engineering   \n",
       "3     4        2417  NAVAL ARCHITECTURE AND MARINE ENGINEERING    Engineering   \n",
       "4     5        2405                       CHEMICAL ENGINEERING    Engineering   \n",
       "\n",
       "   Total  Sample_size    Men  Women  ShareWomen  Employed      ...        \\\n",
       "0   2339           36   2057    282    0.120564      1976      ...         \n",
       "1    756            7    679     77    0.101852       640      ...         \n",
       "2    856            3    725    131    0.153037       648      ...         \n",
       "3   1258           16   1123    135    0.107313       758      ...         \n",
       "4  32260          289  21239  11021    0.341631     25694      ...         \n",
       "\n",
       "   Part_time  Full_time_year_round  Unemployed  Unemployment_rate  Median  \\\n",
       "0        270                  1207          37           0.018381  110000   \n",
       "1        170                   388          85           0.117241   75000   \n",
       "2        133                   340          16           0.024096   73000   \n",
       "3        150                   692          40           0.050125   70000   \n",
       "4       5180                 16697        1672           0.061098   65000   \n",
       "\n",
       "   P25th   P75th  College_jobs  Non_college_jobs  Low_wage_jobs  \n",
       "0  95000  125000          1534               364            193  \n",
       "1  55000   90000           350               257             50  \n",
       "2  50000  105000           456               176              0  \n",
       "3  43000   80000           529               102              0  \n",
       "4  50000   75000         18314              4440            972  \n",
       "\n",
       "[5 rows x 21 columns]"
      ]
     },
     "execution_count": 60,
     "metadata": {},
     "output_type": "execute_result"
    }
   ],
   "source": [
    "recent_grads.head()"
   ]
  },
  {
   "cell_type": "code",
   "execution_count": 41,
   "metadata": {
    "collapsed": false
   },
   "outputs": [
    {
     "data": {
      "text/plain": [
       "(173, 21)"
      ]
     },
     "execution_count": 41,
     "metadata": {},
     "output_type": "execute_result"
    }
   ],
   "source": [
    "recent_grads.shape"
   ]
  },
  {
   "cell_type": "code",
   "execution_count": 57,
   "metadata": {
    "collapsed": false
   },
   "outputs": [
    {
     "name": "stdout",
     "output_type": "stream",
     "text": [
      "Engineering                            29\n",
      "Education                              16\n",
      "Humanities & Liberal Arts              15\n",
      "Biology & Life Science                 14\n",
      "Business                               13\n",
      "Health                                 12\n",
      "Computers & Mathematics                11\n",
      "Agriculture & Natural Resources        10\n",
      "Physical Sciences                      10\n",
      "Psychology & Social Work                9\n",
      "Social Science                          9\n",
      "Arts                                    8\n",
      "Industrial Arts & Consumer Services     7\n",
      "Law & Public Policy                     5\n",
      "Communications & Journalism             4\n",
      "Interdisciplinary                       1\n",
      "Name: Major_category, dtype: int64\n",
      "Engineering                            29\n",
      "Education                              16\n",
      "Humanities & Liberal Arts              15\n",
      "Biology & Life Science                 14\n",
      "Business                               13\n",
      "Health                                 12\n",
      "Computers & Mathematics                11\n",
      "Agriculture & Natural Resources        10\n",
      "Physical Sciences                      10\n",
      "Psychology & Social Work                9\n",
      "Social Science                          9\n",
      "Arts                                    8\n",
      "Industrial Arts & Consumer Services     7\n",
      "Law & Public Policy                     5\n",
      "Communications & Journalism             4\n",
      "Interdisciplinary                       1\n",
      "Name: Major_category, dtype: int64\n"
     ]
    }
   ],
   "source": [
    "# All values for Major_category\n",
    "print(all_ages['Major_category'].value_counts())\n",
    "print(recent_grads['Major_category'].value_counts())\n"
   ]
  },
  {
   "cell_type": "code",
   "execution_count": 72,
   "metadata": {
    "collapsed": false
   },
   "outputs": [
    {
     "name": "stdout",
     "output_type": "stream",
     "text": [
      "Index(['Engineering', 'Education', 'Humanities & Liberal Arts',\n",
      "       'Biology & Life Science', 'Business', 'Health',\n",
      "       'Computers & Mathematics', 'Agriculture & Natural Resources',\n",
      "       'Physical Sciences', 'Psychology & Social Work', 'Social Science',\n",
      "       'Arts', 'Industrial Arts & Consumer Services', 'Law & Public Policy',\n",
      "       'Communications & Journalism', 'Interdisciplinary'],\n",
      "      dtype='object')\n",
      "{'Arts': 357130, 'Social Science': 529966, 'Law & Public Policy': 179107, 'Communications & Journalism': 392601, 'Computers & Mathematics': 299008, 'Humanities & Liberal Arts': 713468, 'Interdisciplinary': 12296, 'Physical Sciences': 185479, 'Business': 1302376, 'Biology & Life Science': 453862, 'Industrial Arts & Consumer Services': 229792, 'Engineering': 537583, 'Psychology & Social Work': 481007, 'Education': 559129, 'Health': 463230, 'Agriculture & Natural Resources': 79981}\n",
      "{'Arts': 1805865, 'Social Science': 2654125, 'Law & Public Policy': 902926, 'Communications & Journalism': 1803822, 'Computers & Mathematics': 1781378, 'Humanities & Liberal Arts': 3738335, 'Interdisciplinary': 45199, 'Physical Sciences': 1025318, 'Business': 9858741, 'Biology & Life Science': 1338186, 'Industrial Arts & Consumer Services': 1033798, 'Engineering': 3576013, 'Psychology & Social Work': 1987278, 'Education': 4700118, 'Health': 2950859, 'Agriculture & Natural Resources': 632437}\n"
     ]
    }
   ],
   "source": [
    "# All values for Major_category\n",
    "print(all_ages['Major_category'].value_counts().index)\n",
    "\n",
    "all_ages_major_categories = dict()\n",
    "recent_grads_major_categories = dict()\n",
    "\n",
    "def count_cat(df, col_to_count):\n",
    "    counts_dictionary = dict()\n",
    "    cat_index = df[col_to_count].value_counts().index\n",
    "    for c in cat_index:\n",
    "        df_count = df[df[col_to_count] == c]\n",
    "        total = df_count[\"Total\"].sum()\n",
    "        counts_dictionary[c] = total\n",
    "    return counts_dictionary\n",
    "\n",
    "all_ages_major_categories = count_cat(all_ages, 'Major_category')\n",
    "recent_grads_major_categories = count_cat(recent_grads, 'Major_category')\n",
    "\n",
    "#recent_grads_major_categories = recent_grads['Major_category'].value_counts().to_dict()\n",
    "print(recent_grads_major_categories)\n",
    "\n",
    "#all_ages_major_categories = all_ages['Major_category'].value_counts().to_dict()\n",
    "print(all_ages_major_categories)"
   ]
  },
  {
   "cell_type": "markdown",
   "metadata": {},
   "source": [
    "Use the 'Low_wage_jobs' and 'Total columns' to calculate the proportion of recent college graduates that worked low wage jobs.\n",
    "Store the resulting float as `low_wage_percent`."
   ]
  },
  {
   "cell_type": "code",
   "execution_count": 75,
   "metadata": {
    "collapsed": false
   },
   "outputs": [
    {
     "data": {
      "text/plain": [
       "0.09852546076122913"
      ]
     },
     "execution_count": 75,
     "metadata": {},
     "output_type": "execute_result"
    }
   ],
   "source": [
    "low_wage_percent = 0.0\n",
    "low_wage_percent = recent_grads[\"Low_wage_jobs\"].sum() / recent_grads['Total'].sum()\n",
    "low_wage_percent"
   ]
  },
  {
   "cell_type": "markdown",
   "metadata": {},
   "source": [
    "Both all_ages and recent_grads datasets have 173 rows, corresponding to the 173 college major codes. This enables us to do some comparisons between the two datasets and perform some initial calculations to see how similar or different the statistics of recent college graduates are from those of the entire population.\n",
    "\n",
    "Let's now calculate the number of majors where recent grads did better than the overall population.\n",
    "\n",
    "## for each major\n",
    "- Increment recent_grads_lower_unemp_count if Unemployment_rate is lower for recent_grads.\n",
    "- Increment all_ages_lower_unemp_count if Unemployment_rate is lower for all_ages.\n",
    "- Do nothing if Unemployment_rate is the same for both."
   ]
  },
  {
   "cell_type": "code",
   "execution_count": 116,
   "metadata": {
    "collapsed": false
   },
   "outputs": [
    {
     "name": "stdout",
     "output_type": "stream",
     "text": [
      "43 128\n",
      "171\n"
     ]
    }
   ],
   "source": [
    "# All majors, common to both DataFrames\n",
    "majors = recent_grads['Major'].value_counts().index\n",
    "#print(majors)\n",
    "recent_grads_lower_unemp_count = 0\n",
    "all_ages_lower_unemp_count = 0\n",
    "\n",
    "for m in majors:\n",
    "    #geting the row for each major, for recent and all ages\n",
    "    recent_m = recent_grads[recent_grads['Major'] == m]\n",
    "    all_m = all_ages[all_ages['Major'] == m]\n",
    "    #print(recent_m)\n",
    "    \n",
    "    #extracting the value for unemployment rate\n",
    "    recent_unemp = recent_m['Unemployment_rate'].values[0]\n",
    "    all_unemp = all_m['Unemployment_rate'].values[0]\n",
    "    #print('recent', recent_unemp, type(recent_unemp))\n",
    "    \n",
    "    #comparing unemployment rate and increasing the right counter\n",
    "    if recent_unemp < all_unemp:\n",
    "        recent_grads_lower_unemp_count += 1\n",
    "    elif all_unemp < recent_unemp:\n",
    "        all_ages_lower_unemp_count += 1\n",
    "\n",
    "print(recent_grads_lower_unemp_count, all_ages_lower_unemp_count)\n",
    "print(recent_grads_lower_unemp_count + all_ages_lower_unemp_count)"
   ]
  },
  {
   "cell_type": "code",
   "execution_count": null,
   "metadata": {
    "collapsed": true
   },
   "outputs": [],
   "source": []
  }
 ],
 "metadata": {
  "anaconda-cloud": {},
  "kernelspec": {
   "display_name": "Python [conda root]",
   "language": "python",
   "name": "conda-root-py"
  },
  "language_info": {
   "codemirror_mode": {
    "name": "ipython",
    "version": 3
   },
   "file_extension": ".py",
   "mimetype": "text/x-python",
   "name": "python",
   "nbconvert_exporter": "python",
   "pygments_lexer": "ipython3",
   "version": "3.5.2"
  }
 },
 "nbformat": 4,
 "nbformat_minor": 0
}

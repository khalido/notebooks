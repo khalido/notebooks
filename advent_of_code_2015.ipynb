{
 "cells": [
  {
   "cell_type": "markdown",
   "metadata": {},
   "source": [
    "First up importing all things I might need:"
   ]
  },
  {
   "cell_type": "code",
   "execution_count": 218,
   "metadata": {},
   "outputs": [],
   "source": [
    "# tools from the python standard lib\n",
    "from collections import defaultdict, namedtuple, Counter\n",
    "from functools import reduce\n",
    "import hashlib\n",
    "import re\n",
    "from time import sleep\n",
    "import operator\n",
    "from functools import lru_cache\n",
    "\n",
    "# external libs\n",
    "import requests\n",
    "import numpy as np\n",
    "import pandas as pd\n",
    "from tqdm import tnrange, tqdm_notebook\n",
    "\n",
    "# visualization stuff\n",
    "from plotly.offline import iplot\n",
    "import plotly.graph_objs as go\n",
    "import ipywidgets as ipw\n",
    "\n",
    "import matplotlib.pyplot as plt\n",
    "import seaborn as sns\n",
    "%matplotlib inline\n",
    "from IPython.display import clear_output, display, Markdown"
   ]
  },
  {
   "cell_type": "markdown",
   "metadata": {},
   "source": [
    "A few helper functions:"
   ]
  },
  {
   "cell_type": "code",
   "execution_count": 2,
   "metadata": {},
   "outputs": [],
   "source": [
    "def print_md(txt=\"## testing\"):\n",
    "    display(Markdown(txt))\n",
    "\n",
    "def get_input(day=1):\n",
    "    with open(f'data/advent_2015/{day}.txt') as f:\n",
    "        data = f.read().strip()\n",
    "    return data"
   ]
  },
  {
   "cell_type": "markdown",
   "metadata": {},
   "source": [
    "# Day 1 count chars in string\n",
    "\n",
    "- `(` go up\n",
    "- `)` go down"
   ]
  },
  {
   "cell_type": "code",
   "execution_count": 7,
   "metadata": {},
   "outputs": [
    {
     "data": {
      "text/plain": [
       "138"
      ]
     },
     "execution_count": 7,
     "metadata": {},
     "output_type": "execute_result"
    }
   ],
   "source": [
    "input_1 = get_input(1)\n",
    "    \n",
    "input_1.count(\"(\") - input_1.count(\")\")"
   ]
  },
  {
   "cell_type": "markdown",
   "metadata": {},
   "source": [
    "## When do we get to the the basement at floor `-1`?\n",
    "\n",
    "So lets track the position one move at a time:"
   ]
  },
  {
   "cell_type": "code",
   "execution_count": 7,
   "metadata": {},
   "outputs": [
    {
     "data": {
      "text/markdown": [
       "## On floor  -1"
      ],
      "text/plain": [
       "<IPython.core.display.Markdown object>"
      ]
     },
     "metadata": {},
     "output_type": "display_data"
    },
    {
     "name": "stdout",
     "output_type": "stream",
     "text": [
      "Timesteps to reach the basement:  1771\n"
     ]
    },
    {
     "data": {
      "image/png": "[encoded data removed]",
      "text/plain": [
       "<Figure size 432x288 with 1 Axes>"
      ]
     },
     "metadata": {
      "needs_background": "light"
     },
     "output_type": "display_data"
    }
   ],
   "source": [
    "floor = 0\n",
    "floors = []\n",
    "for i, mv in enumerate(input_1):\n",
    "    if mv == \"(\":\n",
    "        floor += 1\n",
    "    else:\n",
    "        floor -= 1\n",
    "    \n",
    "    floors.append(floor)\n",
    "    clear_output(True)\n",
    "    print_md(f\"## On floor {floor:3}\")\n",
    "    \n",
    "    if floor == -1:\n",
    "        print(f\"Timesteps to reach the basement: \", i + 1)\n",
    "        break\n",
    "\n",
    "plt.title(\"Floor Tracker\")\n",
    "plt.bar([i for i in range(len(floors))], floors);"
   ]
  },
  {
   "cell_type": "markdown",
   "metadata": {},
   "source": [
    "# Day 2 Calculate areas\n",
    "\n",
    "We need to figure out the amount of wrapping paper needed to wrap a bunch of presents.\n",
    "\n",
    "We've got a list of the dimensions (length l, width w, and height h) of each present.\n",
    "\n",
    "Every present is a box (a perfect right rectangular prism), which makes calculating the required wrapping paper for each gift a little easier: find the surface area of the box, which is `2*l*w + 2*w*h + 2*h*l`. The elves also need a little extra paper for each present: the area of the smallest side.\n",
    "\n",
    "- A present with dimensions 2x3x4 requires 2*6 + 2*12 + 2*8 = 52 square feet of wrapping paper plus 6 square feet of slack, for a total of 58 square feet.\n",
    "- A present with dimensions 1x1x10 requires 2*1 + 2*10 + 2*10 = 42 square feet of wrapping paper plus 1 square foot of slack, for a total of 43 square feet.\n",
    "\n",
    "**How many total square feet of wrapping paper should they order?**"
   ]
  },
  {
   "cell_type": "code",
   "execution_count": 8,
   "metadata": {},
   "outputs": [
    {
     "data": {
      "text/plain": [
       "['29x13x26', '11x11x14', '27x2x5', '6x10x13', '15x19x10']"
      ]
     },
     "execution_count": 8,
     "metadata": {},
     "output_type": "execute_result"
    }
   ],
   "source": [
    "input_2 = get_input(2).split(\"\\n\")\n",
    "input_2[:5]"
   ]
  },
  {
   "cell_type": "markdown",
   "metadata": {},
   "source": [
    "First up, splitting it into a list of ints:"
   ]
  },
  {
   "cell_type": "code",
   "execution_count": 6,
   "metadata": {},
   "outputs": [
    {
     "data": {
      "text/plain": [
       "[[29, 13, 26], [11, 11, 14], [27, 2, 5], [6, 10, 13], [15, 19, 10]]"
      ]
     },
     "execution_count": 6,
     "metadata": {},
     "output_type": "execute_result"
    }
   ],
   "source": [
    "data2 = [[int(x) for x in i.split(\"x\")] for i in input_2]\n",
    "data2[:5]"
   ]
  },
  {
   "cell_type": "code",
   "execution_count": 7,
   "metadata": {},
   "outputs": [
    {
     "data": {
      "text/plain": [
       "(58, 43)"
      ]
     },
     "execution_count": 7,
     "metadata": {},
     "output_type": "execute_result"
    }
   ],
   "source": [
    "def get_area(present):\n",
    "    \"\"\"returns the area of one present\"\"\"\n",
    "    l, w, h = present\n",
    "    return np.prod(sorted(present)[:2]) + 2*l*w + 2*w*h + 2*h*l\n",
    "\n",
    "get_area([2,3,4]), get_area([1,1,10])"
   ]
  },
  {
   "cell_type": "markdown",
   "metadata": {},
   "source": [
    "Now to calculate the area of all presents:"
   ]
  },
  {
   "cell_type": "code",
   "execution_count": 8,
   "metadata": {},
   "outputs": [
    {
     "data": {
      "text/plain": [
       "1586300"
      ]
     },
     "execution_count": 8,
     "metadata": {},
     "output_type": "execute_result"
    }
   ],
   "source": [
    "present_areas = [get_area(x) for x in data2]\n",
    "np.sum(present_areas)"
   ]
  },
  {
   "cell_type": "markdown",
   "metadata": {},
   "source": [
    "## Part 2 ribbon to wrap the present\n",
    "\n",
    "The ribbon required to wrap a present is the shortest distance around its sides, or the smallest perimeter of any one face. Each present also requires a bow made out of ribbon as well; the feet of ribbon required for the perfect bow is equal to the cubic feet of volume of the present.\n",
    "\n",
    "- A present with dimensions 2x3x4 requires 2+2+3+3 = 10 feet of ribbon to wrap the present plus 2*3*4 = 24 feet of ribbon for the bow, for a total of 34 feet.\n",
    "\n",
    "- A present with dimensions 1x1x10 requires 1+1+1+1 = 4 feet of ribbon to wrap the present plus 1*1*10 = 10 feet of ribbon for the bow, for a total of 14 feet.\n",
    "\n",
    "**How many total feet of ribbon should they order?**"
   ]
  },
  {
   "cell_type": "code",
   "execution_count": 15,
   "metadata": {},
   "outputs": [
    {
     "data": {
      "text/plain": [
       "(34, 14)"
      ]
     },
     "execution_count": 15,
     "metadata": {},
     "output_type": "execute_result"
    }
   ],
   "source": [
    "def ribbon(present=[2,3,4]):\n",
    "    \"\"\"takes in present, returns length of ribbon needed to wrap\"\"\"\n",
    "    l, w, h = sorted(present)\n",
    "    return 2*l + 2*w + l*w*h\n",
    "    \n",
    "ribbon(), ribbon([1,1,10])"
   ]
  },
  {
   "cell_type": "code",
   "execution_count": 16,
   "metadata": {},
   "outputs": [
    {
     "data": {
      "text/plain": [
       "3737498"
      ]
     },
     "execution_count": 16,
     "metadata": {},
     "output_type": "execute_result"
    }
   ],
   "source": [
    "ribbons = [ribbon(x) for x in data2]\n",
    "np.sum(ribbons)"
   ]
  },
  {
   "cell_type": "markdown",
   "metadata": {},
   "source": [
    "# Day 3 grid\n",
    "\n",
    "2d grid with moves north (^), south (v), east (>), or west (<)."
   ]
  },
  {
   "cell_type": "code",
   "execution_count": 9,
   "metadata": {},
   "outputs": [
    {
     "data": {
      "text/plain": [
       "'^^<<v<<v><v^^<><>^^<v<v^>>^^^><^>v^>v><><><<vv^^<^>^^<v^>v>v^v>>>^<>v<^<v^><^>>>>><<v>>^>>^>v^>><<^>v>v<>^v^v^vvv><>^^>v><v<><>^><^^<vv^v<v>^v>>^v^>v><>v^<vv>^><<v^>vv^<<>v>>><<<>>^<vv<^<>^^vv>>>^><<<<vv^v^>>><><^>v<>^>v<v^v<^vv><^v^><<<<>^<>v>^v>v<v<v<<>v<^<<<v>>>>>^^v>vv^^<>^<>'"
      ]
     },
     "execution_count": 9,
     "metadata": {},
     "output_type": "execute_result"
    }
   ],
   "source": [
    "input_3 = get_input(3)\n",
    "\n",
    "input_3[:280]"
   ]
  },
  {
   "cell_type": "markdown",
   "metadata": {},
   "source": [
    "lets convert this to a plot"
   ]
  },
  {
   "cell_type": "code",
   "execution_count": 3,
   "metadata": {},
   "outputs": [
    {
     "data": {
      "image/png": "[encoded data removed]",
      "text/plain": [
       "<Figure size 720x432 with 1 Axes>"
      ]
     },
     "metadata": {
      "needs_background": "light"
     },
     "output_type": "display_data"
    }
   ],
   "source": [
    "dirs = {\"^\": (0,1), \">\": (1,0), \"v\": (0,-1), \"<\": (-1, 0)}\n",
    "\n",
    "def get_moves(data):\n",
    "    moves = [(0,0)]\n",
    "\n",
    "    for mv in data:\n",
    "        x, y = moves[-1]\n",
    "        xx, yy = dirs[mv]\n",
    "        moves.append((x + xx, y + yy))\n",
    "    return moves\n",
    "\n",
    "moves = get_moves(input_3)\n",
    "c = Counter(moves)\n",
    "\n",
    "x, y = zip(*moves)\n",
    "\n",
    "f, ax = plt.subplots(figsize=(10,6))\n",
    "plt.title(f\"Visited {len(c)} unique places in {len(moves)} visits\")\n",
    "ax.plot(x,y);"
   ]
  },
  {
   "cell_type": "markdown",
   "metadata": {},
   "source": [
    "Trying this out in plotly:"
   ]
  },
  {
   "cell_type": "code",
   "execution_count": 4,
   "metadata": {},
   "outputs": [
    {
     "data": {
      "application/vnd.jupyter.widget-view+json": {
       "model_id": "2f9e55d55b53448ca117869e8eeb7ce1",
       "version_major": 2,
       "version_minor": 0
      },
      "text/plain": [
       "FigureWidget({\n",
       "    'data': [{'type': 'scatter',\n",
       "              'uid': '15c75f0a-d662-11e8-a2ac-4f7e302a5f68',\n",
       " …"
      ]
     },
     "metadata": {},
     "output_type": "display_data"
    }
   ],
   "source": [
    "line = go.Scatter(x=x,y=y)\n",
    "layout = go.Layout(title=\"This is a title\", \n",
    "                   xaxis=dict(title=\"X axis title\", range=[-50, 150]), \n",
    "                   yaxis=dict(title=\"Y\", range=[-90,50]))\n",
    "f = go.FigureWidget([line])\n",
    "f"
   ]
  },
  {
   "cell_type": "markdown",
   "metadata": {},
   "source": [
    "We can animate santa!"
   ]
  },
  {
   "cell_type": "code",
   "execution_count": 5,
   "metadata": {},
   "outputs": [],
   "source": [
    "for n in range(1,len(x), 200):\n",
    "    sleep(0.05)\n",
    "    line.update(x=x[:n],y=y[:n])\n",
    "    f.update(data=[line])"
   ]
  },
  {
   "cell_type": "markdown",
   "metadata": {},
   "source": [
    "## two santas \n",
    "\n",
    "Now we have two santas, each one moving from every alternative instruction. This is easy as we can just take the function above and use pythonic list ninja to get moves:"
   ]
  },
  {
   "cell_type": "code",
   "execution_count": 115,
   "metadata": {},
   "outputs": [
    {
     "data": {
      "text/plain": [
       "([1, 3, 5, 7], [2, 4, 6])"
      ]
     },
     "execution_count": 115,
     "metadata": {},
     "output_type": "execute_result"
    }
   ],
   "source": [
    "a = [1,2,3,4,5,6,7]\n",
    "a[::2], a[1::2]"
   ]
  },
  {
   "cell_type": "code",
   "execution_count": 6,
   "metadata": {},
   "outputs": [
    {
     "data": {
      "image/png": "[encoded data removed]",
      "text/plain": [
       "<Figure size 720x432 with 1 Axes>"
      ]
     },
     "metadata": {
      "needs_background": "light"
     },
     "output_type": "display_data"
    }
   ],
   "source": [
    "santa_1 = get_moves(input_3[::2])\n",
    "santa_2 = get_moves(input_3[1::2])\n",
    "\n",
    "two_santas = Counter(santa_1 + santa_2)\n",
    "\n",
    "f, ax = plt.subplots(figsize=(10,6))\n",
    "plt.title(f\"the two santas visited {len(two_santas)} unique places\")\n",
    "\n",
    "for santa in santa_1, santa_2:\n",
    "    x, y = zip(*santa)\n",
    "    ax.plot(x,y)\n",
    "plt.show()"
   ]
  },
  {
   "cell_type": "code",
   "execution_count": 7,
   "metadata": {},
   "outputs": [
    {
     "data": {
      "application/vnd.jupyter.widget-view+json": {
       "model_id": "fe87468390c245f98c08d1e6d7bff277",
       "version_major": 2,
       "version_minor": 0
      },
      "text/plain": [
       "FigureWidget({\n",
       "    'data': [{'name': 'Santa 1', 'type': 'scatter', 'uid': '2fe33ee0-d662-11e8-a2ac-4f7e302a5f6…"
      ]
     },
     "metadata": {},
     "output_type": "display_data"
    }
   ],
   "source": [
    "x1, y1 = zip(*santa_1)\n",
    "s1 = go.Scatter(x=x1[0:1], y=y1[0:1], name=\"Santa 1\")\n",
    "x2, y2 = zip(*santa_2)\n",
    "s2 = go.Scatter(x=x2[0:1], y=y2[0:1], name=\"Santa 2\")\n",
    "\n",
    "layout=go.Layout(title=f\"the two santas visited {len(two_santas)} unique places\",\n",
    "                xaxis=dict(title=\"X\", range=[min(x1+x2), max(x1+x2)]), \n",
    "                yaxis=dict(title=\"Y\", range=[min(y1+y2), max(y1+y2)]))\n",
    "fig = go.FigureWidget([s1, s2], layout=layout)\n",
    "fig"
   ]
  },
  {
   "cell_type": "code",
   "execution_count": 8,
   "metadata": {},
   "outputs": [],
   "source": [
    "for i in range(1, len(santa_1), 150):\n",
    "    with fig.batch_animate(duration=150):\n",
    "        fig.data[0].x = x1[0:i]\n",
    "        fig.data[0].y = y1[0:i]\n",
    "        fig.data[1].x = x2[0:i]\n",
    "        fig.data[1].y = y2[0:i]"
   ]
  },
  {
   "cell_type": "markdown",
   "metadata": {},
   "source": [
    "# Day 4 find md5 hashes"
   ]
  },
  {
   "cell_type": "code",
   "execution_count": 194,
   "metadata": {},
   "outputs": [
    {
     "data": {
      "text/plain": [
       "('e80b5017098950fc58aad83c8c14978e', 'd6ce49fc1a64ec3bb8e335b9e7a3e080')"
      ]
     },
     "execution_count": 194,
     "metadata": {},
     "output_type": "execute_result"
    }
   ],
   "source": [
    "input4 = \"bgvyzdsv\"\n",
    "test = \"abcdef\" #609043\n",
    "test2 = \"pqrstuv\" # 1048970\n",
    "\n",
    "def make_hash(txt):\n",
    "    return hashlib.md5(txt.encode(\"utf\")).hexdigest()\n",
    "\n",
    "make_hash(test), make_hash(test2)    "
   ]
  },
  {
   "cell_type": "code",
   "execution_count": 200,
   "metadata": {},
   "outputs": [
    {
     "data": {
      "text/plain": [
       "(254575, '000004b30d481662b9cb0c105f6549b2')"
      ]
     },
     "execution_count": 200,
     "metadata": {},
     "output_type": "execute_result"
    }
   ],
   "source": [
    "s = \"None\"\n",
    "i = 0\n",
    "\n",
    "while not s.startswith(\"00000\"):\n",
    "    i += 1\n",
    "    txt = input4 + str(i)\n",
    "    s = make_hash(txt)\n",
    "i, s"
   ]
  },
  {
   "cell_type": "markdown",
   "metadata": {},
   "source": [
    "Not to find one starting with 6 zeros:"
   ]
  },
  {
   "cell_type": "code",
   "execution_count": 201,
   "metadata": {},
   "outputs": [
    {
     "data": {
      "text/plain": [
       "(1038736, '000000b1b64bf5eb55aad89986126953')"
      ]
     },
     "execution_count": 201,
     "metadata": {},
     "output_type": "execute_result"
    }
   ],
   "source": [
    "s = \"None\"\n",
    "i = 0\n",
    "\n",
    "while not s.startswith(\"000000\"):\n",
    "    i += 1\n",
    "    txt = input4 + str(i)\n",
    "    s = make_hash(txt)\n",
    "i, s"
   ]
  },
  {
   "cell_type": "markdown",
   "metadata": {},
   "source": [
    "# Day 5 find the nice strings\n",
    "\n",
    "looking for strings which:\n",
    "\n",
    "- at least three vowels (aeiou only), like aei, xazegov, or aeiouaeiouaeiou.\n",
    "- at least one letter that appears twice in a row, like xx, abcdde (dd), or aabbccdd (aa, bb, cc, or dd).\n",
    "- does not contain the strings ab, cd, pq, or xy, even if they are part of one of the other requirements.\n",
    "\n",
    "First up, counting the vowels:"
   ]
  },
  {
   "cell_type": "code",
   "execution_count": 12,
   "metadata": {},
   "outputs": [
    {
     "name": "stdout",
     "output_type": "stream",
     "text": [
      "True\n",
      "True\n",
      "True\n",
      "True\n",
      "False\n"
     ]
    }
   ],
   "source": [
    "test = [\"ugknbfddgicrmopn\", \"aaa\", \"jchzalrnumimnmhp\", \n",
    "        \"haegwjzuvuyypxyu\", \"dvszwmarrgswjxmb\"]\n",
    "\n",
    "vowels = \"aeiou\"\n",
    "\n",
    "for s in test:\n",
    "    v = len([char for char in s if char in vowels]) >= 3\n",
    "    print(v)"
   ]
  },
  {
   "cell_type": "markdown",
   "metadata": {},
   "source": [
    "Now to find a repeated char in a row:"
   ]
  },
  {
   "cell_type": "code",
   "execution_count": 14,
   "metadata": {},
   "outputs": [
    {
     "data": {
      "text/plain": [
       "([], ['a', 'b'], ['b', 'c'])"
      ]
     },
     "execution_count": 14,
     "metadata": {},
     "output_type": "execute_result"
    }
   ],
   "source": [
    "regex = re.compile(r\"([a-zA-Z])\\1{1,}\")\n",
    "re.findall(regex, \"a\"), re.findall(regex, \"aabbbb\"), re.findall(regex, \"abbcc\")"
   ]
  },
  {
   "cell_type": "markdown",
   "metadata": {},
   "source": [
    "Now checking if it contains the forbidden strings:"
   ]
  },
  {
   "cell_type": "code",
   "execution_count": 15,
   "metadata": {},
   "outputs": [
    {
     "data": {
      "text/plain": [
       "1"
      ]
     },
     "execution_count": 15,
     "metadata": {},
     "output_type": "execute_result"
    }
   ],
   "source": [
    "bad_strings = [\"ab\", \"cd\", \"pq\", \"xy\"]\n",
    "sum([s in \"abc\" for s in bad_strings])"
   ]
  },
  {
   "cell_type": "markdown",
   "metadata": {},
   "source": [
    "Now to put it all together"
   ]
  },
  {
   "cell_type": "code",
   "execution_count": 16,
   "metadata": {},
   "outputs": [
    {
     "data": {
      "text/plain": [
       "[True, True, False, False, False]"
      ]
     },
     "execution_count": 16,
     "metadata": {},
     "output_type": "execute_result"
    }
   ],
   "source": [
    "def is_nice_string(txt):\n",
    "    vowel_count = len([char for char in txt if char in vowels]) >= 3\n",
    "    two_chars = len(re.findall(regex, txt)) > 0\n",
    "    no_bad_str = True if (sum([s in txt for s in bad_strings]) == 0) else False\n",
    "    \n",
    "    return vowel_count and two_chars and no_bad_str\n",
    "\n",
    "[is_nice_string(t) for t in test] #== [False, False, True, True, True]"
   ]
  },
  {
   "cell_type": "markdown",
   "metadata": {},
   "source": [
    "Now to solve part 1:"
   ]
  },
  {
   "cell_type": "code",
   "execution_count": 18,
   "metadata": {},
   "outputs": [
    {
     "name": "stdout",
     "output_type": "stream",
     "text": [
      "Number of nice strings:  258\n"
     ]
    }
   ],
   "source": [
    "input_5 = get_input(5).split(\"\\n\")\n",
    "print(\"Number of nice strings: \", sum([is_nice_string(t) for t in input_5]))"
   ]
  },
  {
   "cell_type": "markdown",
   "metadata": {},
   "source": [
    "## Part 2\n",
    "\n",
    "Now, a nice string is one with all of the following properties:\n",
    "\n",
    "- It contains a pair of any two letters that appears at least twice in the string without overlapping, like xyxy (xy) or aabcdefgaa (aa), but not like aaa (aa, but it overlaps).\n",
    "- It contains at least one letter which repeats with exactly one letter between them, like xyx, abcdefeghi (efe), or even aaa."
   ]
  },
  {
   "cell_type": "code",
   "execution_count": 387,
   "metadata": {},
   "outputs": [
    {
     "data": {
      "text/plain": [
       "(True, True, False)"
      ]
     },
     "execution_count": 387,
     "metadata": {},
     "output_type": "execute_result"
    }
   ],
   "source": [
    "def has_two_chars(txt):\n",
    "    regex = re.compile(r\"([a-zA-Z]).*\\1\")\n",
    "    m = re.findall(regex, txt)\n",
    "    if len(m) == 0: return False\n",
    "    for c in m:\n",
    "        if c*3 in txt:\n",
    "            return False\n",
    "    return True\n",
    "\n",
    "has_two_chars(\"aa\"), has_two_chars(\"aba\"), has_two_chars(\"aaa\")"
   ]
  },
  {
   "cell_type": "markdown",
   "metadata": {},
   "source": [
    "The second part is easier:"
   ]
  },
  {
   "cell_type": "code",
   "execution_count": 394,
   "metadata": {},
   "outputs": [
    {
     "data": {
      "text/plain": [
       "False"
      ]
     },
     "execution_count": 394,
     "metadata": {},
     "output_type": "execute_result"
    }
   ],
   "source": [
    "def day5_2(txt):\n",
    "    regex = re.compile(r\"([a-zA-Z])[A-Za-z]\\1\")\n",
    "    if len(re.findall(regex, txt)) > 0:\n",
    "        return True\n",
    "    else:\n",
    "        return False"
   ]
  },
  {
   "cell_type": "code",
   "execution_count": 395,
   "metadata": {},
   "outputs": [
    {
     "data": {
      "text/plain": [
       "395"
      ]
     },
     "execution_count": 395,
     "metadata": {},
     "output_type": "execute_result"
    }
   ],
   "source": [
    "sum([has_two_chars(t) and day5_2(t) for t in input_5])"
   ]
  },
  {
   "cell_type": "markdown",
   "metadata": {},
   "source": [
    "# Day 6 Grids\n",
    "\n",
    "We have a a million lights in a 1000x1000 grid. We get instructions to turn on or off lights:\n",
    "\n",
    "- turn on 0,0 through 999,999 would turn on (or leave on) every light.\n",
    "- toggle 0,0 through 999,0 would toggle the first line of 1000 lights, turning off the ones that were on, and turning on the ones that were off.\n",
    "- turn off 499,499 through 500,500 would turn off (or leave off) the middle four lights."
   ]
  },
  {
   "cell_type": "code",
   "execution_count": 19,
   "metadata": {},
   "outputs": [
    {
     "data": {
      "text/plain": [
       "['turn off 446,432 through 458,648',\n",
       " 'turn on 715,871 through 722,890',\n",
       " 'toggle 424,675 through 740,862',\n",
       " 'toggle 580,592 through 671,900',\n",
       " 'toggle 296,687 through 906,775']"
      ]
     },
     "execution_count": 19,
     "metadata": {},
     "output_type": "execute_result"
    }
   ],
   "source": [
    "input_6 = get_input(6).split(\"\\n\")\n",
    "input_6[-5:]"
   ]
  },
  {
   "cell_type": "markdown",
   "metadata": {},
   "source": [
    "Lets make the grid of lights:"
   ]
  },
  {
   "cell_type": "code",
   "execution_count": 129,
   "metadata": {},
   "outputs": [
    {
     "data": {
      "text/plain": [
       "(1000, 1000)"
      ]
     },
     "execution_count": 129,
     "metadata": {},
     "output_type": "execute_result"
    }
   ],
   "source": [
    "grid = np.zeros([1000,1000])\n",
    "grid.shape"
   ]
  },
  {
   "cell_type": "markdown",
   "metadata": {},
   "source": [
    "Using regex to extract the info we need form the commands:"
   ]
  },
  {
   "cell_type": "code",
   "execution_count": 181,
   "metadata": {},
   "outputs": [
    {
     "data": {
      "text/plain": [
       "['on']"
      ]
     },
     "execution_count": 181,
     "metadata": {},
     "output_type": "execute_result"
    }
   ],
   "source": [
    "re.findall(\"on|off\", 'turn on 660,55 through 986,197')"
   ]
  },
  {
   "cell_type": "markdown",
   "metadata": {},
   "source": [
    "Getting all the digits:"
   ]
  },
  {
   "cell_type": "code",
   "execution_count": 182,
   "metadata": {},
   "outputs": [
    {
     "data": {
      "text/plain": [
       "[660, 55, 986, 197]"
      ]
     },
     "execution_count": 182,
     "metadata": {},
     "output_type": "execute_result"
    }
   ],
   "source": [
    "[int(i) for i in re.findall(\"[\\d]+\", 'turn off 660,55 through 986,197')]"
   ]
  },
  {
   "cell_type": "markdown",
   "metadata": {},
   "source": [
    "numpy makes this easy:"
   ]
  },
  {
   "cell_type": "code",
   "execution_count": 183,
   "metadata": {},
   "outputs": [],
   "source": [
    "def toggle_lights(positions, switch, lights=1):\n",
    "    \"\"\"takes in grid positions and switch setting and toggles lights\"\"\"\n",
    "    x, y, xx, yy = positions\n",
    "    if not switch: # so toggle lights\n",
    "        for i in range(x,xx+1):\n",
    "            for j in range(y, yy+1):\n",
    "                grid[i,j] = (grid[i,j] + 1) % 2\n",
    "    else:\n",
    "        if switch[0] == \"on\": \n",
    "            lights = 1\n",
    "        elif switch[0] ==\"off\":\n",
    "            lights = 0\n",
    "    \n",
    "        grid[x:xx+1, y:yy+1] = lights"
   ]
  },
  {
   "cell_type": "code",
   "execution_count": 166,
   "metadata": {},
   "outputs": [
    {
     "name": "stdout",
     "output_type": "stream",
     "text": [
      "400410.0 lights are on\n"
     ]
    },
    {
     "data": {
      "image/png": "[encoded data removed]",
      "text/plain": [
       "<Figure size 432x288 with 1 Axes>"
      ]
     },
     "metadata": {
      "needs_background": "light"
     },
     "output_type": "display_data"
    }
   ],
   "source": [
    "grid = np.zeros([1000,1000])\n",
    "\n",
    "for i, cmd in enumerate(input_6):\n",
    "    switch = re.findall(\"on|off\", cmd)\n",
    "    positions = [int(i) for i in re.findall(\"[\\d]+\", cmd)]\n",
    "    toggle_lights(positions, switch)\n",
    "    if i % 50 == 0:\n",
    "        clear_output(wait=True)\n",
    "        print(f\"{grid.sum()} lights are on\")\n",
    "        plt.title(f\"{grid.sum()} lights are on\")\n",
    "        plt.imshow(grid)\n",
    "        plt.show()\n",
    "\n",
    "clear_output(wait=True)\n",
    "print(f\"{grid.sum()} lights are on\")\n",
    "plt.title(f\"{grid.sum()} lights are on\")\n",
    "plt.imshow(grid);"
   ]
  },
  {
   "cell_type": "markdown",
   "metadata": {},
   "source": [
    "## Part 2\n",
    "\n",
    "change above so:\n",
    "\n",
    "- \"on\" increases brightness by 1\n",
    "- \"off\" decreases brightness by 1 to a min of zero\n",
    "- \"toggle\" increases brightness by 2\n",
    "\n",
    "numpy makes this too easy:"
   ]
  },
  {
   "cell_type": "code",
   "execution_count": 184,
   "metadata": {},
   "outputs": [],
   "source": [
    "def toggle_lights_2(positions, switch, lights=None):\n",
    "    \"\"\"takes in grid positions and switch setting and toggles lights\"\"\"\n",
    "    x, y, xx, yy = positions\n",
    "    if not switch:\n",
    "        lights = 2\n",
    "    else:\n",
    "        if switch[0] == \"on\": \n",
    "            lights = 1\n",
    "        elif switch[0] ==\"off\":\n",
    "            lights = -1\n",
    "    \n",
    "    grid[x:xx+1, y:yy+1] += lights\n",
    "    grid[grid<0] = 0"
   ]
  },
  {
   "cell_type": "code",
   "execution_count": 186,
   "metadata": {},
   "outputs": [
    {
     "name": "stdout",
     "output_type": "stream",
     "text": [
      "Total brightness: 15343601.0\n"
     ]
    },
    {
     "data": {
      "image/png": "[encoded data removed]",
      "text/plain": [
       "<Figure size 432x288 with 1 Axes>"
      ]
     },
     "metadata": {
      "needs_background": "light"
     },
     "output_type": "display_data"
    }
   ],
   "source": [
    "grid = np.zeros([1000,1000])\n",
    "\n",
    "for i, cmd in enumerate(input_6):\n",
    "    switch = re.findall(\"on|off\", cmd)\n",
    "    positions = [int(i) for i in re.findall(\"[\\d]+\", cmd)]\n",
    "    toggle_lights_2(positions, switch)\n",
    "    if i % 50 == 0:\n",
    "        clear_output(wait=True)\n",
    "        plt.title(f\"{grid.sum()} lights are on\")\n",
    "        plt.imshow(grid)\n",
    "        plt.show()\n",
    "\n",
    "clear_output(wait=True)\n",
    "print(f\"Total brightness: {grid.sum()}\")\n",
    "plt.title(f\"Total Brightness: {grid.sum()}\")\n",
    "plt.imshow(grid);"
   ]
  },
  {
   "cell_type": "markdown",
   "metadata": {},
   "source": [
    "# Day 7\n",
    "\n",
    "https://adventofcode.com/2015/day/7\n",
    "\n",
    "We have a set of instructions which modify wires like so:"
   ]
  },
  {
   "cell_type": "code",
   "execution_count": 171,
   "metadata": {},
   "outputs": [
    {
     "data": {
      "text/plain": [
       "['123 -> x', '456 -> y', 'x AND y -> d', 'x OR y -> e']"
      ]
     },
     "execution_count": 171,
     "metadata": {},
     "output_type": "execute_result"
    }
   ],
   "source": [
    "test_7 = \"\"\"\n",
    "123 -> x\n",
    "456 -> y\n",
    "x AND y -> d\n",
    "x OR y -> e\n",
    "x LSHIFT 2 -> f\n",
    "y RSHIFT 2 -> g\n",
    "NOT x -> h\n",
    "NOT y -> i\n",
    "\"\"\".strip().split(\"\\n\")\n",
    "test_7[:4]"
   ]
  },
  {
   "cell_type": "code",
   "execution_count": 234,
   "metadata": {},
   "outputs": [],
   "source": [
    "wires = defaultdict(lambda: None)\n",
    "wires[\"a\"]"
   ]
  },
  {
   "cell_type": "code",
   "execution_count": 242,
   "metadata": {},
   "outputs": [
    {
     "ename": "TypeError",
     "evalue": "int() argument must be a string, a bytes-like object or a number, not 'NoneType'",
     "output_type": "error",
     "traceback": [
      "\u001b[0;31m-----------------------------------------------------------------\u001b[0m",
      "\u001b[0;31mTypeError\u001b[0m                       Traceback (most recent call last)",
      "\u001b[0;32m<ipython-input-242-af2123a46eb2>\u001b[0m in \u001b[0;36m<module>\u001b[0;34m()\u001b[0m\n\u001b[0;32m----> 1\u001b[0;31m \u001b[0mint\u001b[0m\u001b[0;34m(\u001b[0m\u001b[0;32mNone\u001b[0m\u001b[0;34m)\u001b[0m\u001b[0;34m\u001b[0m\u001b[0m\n\u001b[0m",
      "\u001b[0;31mTypeError\u001b[0m: int() argument must be a string, a bytes-like object or a number, not 'NoneType'"
     ]
    }
   ],
   "source": [
    "int(None)"
   ]
  },
  {
   "cell_type": "code",
   "execution_count": 260,
   "metadata": {},
   "outputs": [
    {
     "data": {
      "text/plain": [
       "defaultdict(<function __main__.<lambda>()>,\n",
       "            {'x': 123,\n",
       "             'y': 456,\n",
       "             'd': 72,\n",
       "             'e': 507,\n",
       "             'f': 492,\n",
       "             'g': 114,\n",
       "             'h': 65412,\n",
       "             'i': 65079})"
      ]
     },
     "execution_count": 260,
     "metadata": {},
     "output_type": "execute_result"
    }
   ],
   "source": [
    "wires = defaultdict(lambda: None)\n",
    "\n",
    "def get_wire(w, wires=wires):\n",
    "    \"\"\"if w is an int returns int(w) else returns the dictionary val\"\"\"\n",
    "    try:\n",
    "        wire = int(w)\n",
    "    except:\n",
    "        wire = wires[w]\n",
    "    return wire\n",
    "\n",
    "def do_op(op):\n",
    "    if op[1] == \"->\":\n",
    "        wires[op[2]] = get_wire(op[0])\n",
    "    elif op[1] == \"AND\":\n",
    "        wires[op[4]] = get_wire(op[0]) & get_wire(op[2])\n",
    "    elif op[1] == \"OR\":\n",
    "        wires[op[4]] = get_wire(op[0]) | get_wire(op[2])\n",
    "    elif op[1] == \"LSHIFT\":\n",
    "        wires[op[4]] = get_wire(op[0]) << get_wire(op[2])\n",
    "    elif op[1] == \"RSHIFT\":\n",
    "        wires[op[4]] = get_wire(op[0]) >> get_wire(op[2])\n",
    "    elif op[0] == \"NOT\":\n",
    "        wires[op[3]] = ~np.uint16(get_wire(op[1])) #& 0xffff\n",
    "    else:\n",
    "        print(f\"Shouldn't have reached here: {op}\")\n",
    "        \n",
    "for inst in test_7:\n",
    "    do_op(inst.split(\" \"))\n",
    "wires"
   ]
  },
  {
   "cell_type": "markdown",
   "metadata": {},
   "source": [
    "So the test input passes, but I was failing on the actual test until I realized that some wires\n",
    "now to try on the actual input:"
   ]
  },
  {
   "cell_type": "code",
   "execution_count": 261,
   "metadata": {},
   "outputs": [
    {
     "name": "stdout",
     "output_type": "stream",
     "text": [
      "['NOT dq -> dr', 'kg OR kf -> kh', 'ep OR eo -> eq', '44430 -> b', 'NOT gs -> gt']\n"
     ]
    },
    {
     "data": {
      "application/vnd.jupyter.widget-view+json": {
       "model_id": "8fe70662de274a90916c60285a8b563f",
       "version_major": 2,
       "version_minor": 0
      },
      "text/plain": [
       "HBox(children=(IntProgress(value=0), HTML(value='')))"
      ]
     },
     "metadata": {},
     "output_type": "display_data"
    },
    {
     "name": "stdout",
     "output_type": "stream",
     "text": [
      "\n"
     ]
    },
    {
     "ename": "TypeError",
     "evalue": "int() argument must be a string, a bytes-like object or a number, not 'NoneType'",
     "output_type": "error",
     "traceback": [
      "\u001b[0;31m-----------------------------------------------------------------\u001b[0m",
      "\u001b[0;31mTypeError\u001b[0m                       Traceback (most recent call last)",
      "\u001b[0;32m<ipython-input-261-87de0e294c5e>\u001b[0m in \u001b[0;36m<module>\u001b[0;34m()\u001b[0m\n\u001b[1;32m      6\u001b[0m     \u001b[0;32mfor\u001b[0m \u001b[0minst\u001b[0m \u001b[0;32min\u001b[0m \u001b[0minput_7\u001b[0m\u001b[0;34m:\u001b[0m\u001b[0;34m\u001b[0m\u001b[0m\n\u001b[1;32m      7\u001b[0m         \u001b[0minst\u001b[0m \u001b[0;34m=\u001b[0m \u001b[0minst\u001b[0m\u001b[0;34m.\u001b[0m\u001b[0msplit\u001b[0m\u001b[0;34m(\u001b[0m\u001b[0;34m\" \"\u001b[0m\u001b[0;34m)\u001b[0m\u001b[0;34m\u001b[0m\u001b[0m\n\u001b[0;32m----> 8\u001b[0;31m         \u001b[0mdo_op\u001b[0m\u001b[0;34m(\u001b[0m\u001b[0minst\u001b[0m\u001b[0;34m)\u001b[0m\u001b[0;34m\u001b[0m\u001b[0m\n\u001b[0m\u001b[1;32m      9\u001b[0m \u001b[0mprint\u001b[0m\u001b[0;34m(\u001b[0m\u001b[0mwires\u001b[0m\u001b[0;34m[\u001b[0m\u001b[0;34m\"a\"\u001b[0m\u001b[0;34m]\u001b[0m\u001b[0;34m)\u001b[0m\u001b[0;34m\u001b[0m\u001b[0m\n\u001b[1;32m     10\u001b[0m \u001b[0mwires\u001b[0m\u001b[0;34m\u001b[0m\u001b[0m\n",
      "\u001b[0;32m<ipython-input-260-ce848f1f86c7>\u001b[0m in \u001b[0;36mdo_op\u001b[0;34m(op)\u001b[0m\n\u001b[1;32m     21\u001b[0m         \u001b[0mwires\u001b[0m\u001b[0;34m[\u001b[0m\u001b[0mop\u001b[0m\u001b[0;34m[\u001b[0m\u001b[0;36m4\u001b[0m\u001b[0;34m]\u001b[0m\u001b[0;34m]\u001b[0m \u001b[0;34m=\u001b[0m \u001b[0mget_wire\u001b[0m\u001b[0;34m(\u001b[0m\u001b[0mop\u001b[0m\u001b[0;34m[\u001b[0m\u001b[0;36m0\u001b[0m\u001b[0;34m]\u001b[0m\u001b[0;34m)\u001b[0m \u001b[0;34m>>\u001b[0m \u001b[0mget_wire\u001b[0m\u001b[0;34m(\u001b[0m\u001b[0mop\u001b[0m\u001b[0;34m[\u001b[0m\u001b[0;36m2\u001b[0m\u001b[0;34m]\u001b[0m\u001b[0;34m)\u001b[0m\u001b[0;34m\u001b[0m\u001b[0m\n\u001b[1;32m     22\u001b[0m     \u001b[0;32melif\u001b[0m \u001b[0mop\u001b[0m\u001b[0;34m[\u001b[0m\u001b[0;36m0\u001b[0m\u001b[0;34m]\u001b[0m \u001b[0;34m==\u001b[0m \u001b[0;34m\"NOT\"\u001b[0m\u001b[0;34m:\u001b[0m\u001b[0;34m\u001b[0m\u001b[0m\n\u001b[0;32m---> 23\u001b[0;31m         \u001b[0mwires\u001b[0m\u001b[0;34m[\u001b[0m\u001b[0mop\u001b[0m\u001b[0;34m[\u001b[0m\u001b[0;36m3\u001b[0m\u001b[0;34m]\u001b[0m\u001b[0;34m]\u001b[0m \u001b[0;34m=\u001b[0m \u001b[0;34m~\u001b[0m\u001b[0mnp\u001b[0m\u001b[0;34m.\u001b[0m\u001b[0muint16\u001b[0m\u001b[0;34m(\u001b[0m\u001b[0mget_wire\u001b[0m\u001b[0;34m(\u001b[0m\u001b[0mop\u001b[0m\u001b[0;34m[\u001b[0m\u001b[0;36m1\u001b[0m\u001b[0;34m]\u001b[0m\u001b[0;34m)\u001b[0m\u001b[0;34m)\u001b[0m \u001b[0;31m#& 0xffff\u001b[0m\u001b[0;34m\u001b[0m\u001b[0m\n\u001b[0m\u001b[1;32m     24\u001b[0m     \u001b[0;32melse\u001b[0m\u001b[0;34m:\u001b[0m\u001b[0;34m\u001b[0m\u001b[0m\n\u001b[1;32m     25\u001b[0m         \u001b[0mprint\u001b[0m\u001b[0;34m(\u001b[0m\u001b[0;34mf\"Shouldn't have reached here: {op}\"\u001b[0m\u001b[0;34m)\u001b[0m\u001b[0;34m\u001b[0m\u001b[0m\n",
      "\u001b[0;31mTypeError\u001b[0m: int() argument must be a string, a bytes-like object or a number, not 'NoneType'"
     ]
    }
   ],
   "source": [
    "wires = defaultdict(lambda: None)\n",
    "input_7 = get_input(7).split(\"\\n\")\n",
    "print(input_7[:5])\n",
    "\n",
    "for i in tqdm_notebook(range(100)):\n",
    "    for inst in input_7:\n",
    "        inst = inst.split(\" \")\n",
    "        do_op(inst)\n",
    "print(wires[\"a\"])\n",
    "wires"
   ]
  },
  {
   "cell_type": "code",
   "execution_count": 251,
   "metadata": {},
   "outputs": [],
   "source": [
    "wires[\"dq\"]"
   ]
  },
  {
   "cell_type": "markdown",
   "metadata": {},
   "source": [
    "# Day 8 - Count chars in strings\n"
   ]
  },
  {
   "cell_type": "code",
   "execution_count": 257,
   "metadata": {},
   "outputs": [
    {
     "data": {
      "text/plain": [
       "'\"qxfcsmh\"\\n\"ffsfyxbyuhqkpwatkjgudo\"\\n\"byc\\\\'"
      ]
     },
     "execution_count": 257,
     "metadata": {},
     "output_type": "execute_result"
    }
   ],
   "source": [
    "get_input(8)[:40]"
   ]
  },
  {
   "cell_type": "code",
   "execution_count": null,
   "metadata": {},
   "outputs": [],
   "source": []
  }
 ],
 "metadata": {
  "kernelspec": {
   "display_name": "Python 3",
   "language": "python",
   "name": "python3"
  },
  "language_info": {
   "codemirror_mode": {
    "name": "ipython",
    "version": 3
   },
   "file_extension": ".py",
   "mimetype": "text/x-python",
   "name": "python",
   "nbconvert_exporter": "python",
   "pygments_lexer": "ipython3",
   "version": "3.7.0"
  }
 },
 "nbformat": 4,
 "nbformat_minor": 2
}

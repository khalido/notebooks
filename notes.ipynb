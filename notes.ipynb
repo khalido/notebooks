{
 "cells": [
  {
   "cell_type": "markdown",
   "metadata": {},
   "source": [
    "Vik's office hours:\n",
    "\n",
    "> I also have office hours if you have questions that you might need help with.  I have a limited number of time slots available each week to answer any data science questions you have: Technical, getting a job, etc.  Each time slot is 10 minutes long - to reserve one, go to https://calendly.com/vikp/office-hours.\n",
    "\n",
    "signed up for the [Dataquest Slack](https://dataquest-learn.slack.com).\n",
    "posted my [intro](https://dataquest-learn.slack.com/archives/intro/p1471227228000324) to Slack and replied to Vik's intro email.\n",
    "\n"
   ]
  },
  {
   "cell_type": "markdown",
   "metadata": {},
   "source": [
    "## initial email from vik\n",
    "\n",
    "Hi Khalid,\n",
    "\n",
    "Today I wanted to share some tips on how to think like a data scientist. Getting in the data science mindset helped me when I was learning data science. I've noticed that the Dataquest users that get the furthest develop this mindset as well.\n",
    "\n",
    "Data science is about framing and solving problems.  R and Python are just tools for getting from a problem to a solution.  Lots of data science happens both before that point (framing the problem), and after (communicating the solution).\n",
    "\n",
    "At Dataquest, we teach both the syntax and the theory behind different techniques.  This helps you know how to think about problems.\n",
    "\n",
    "But, to get from theory to the data science mindset you'll need to practice, read, and build projects.\n",
    "\n",
    "## Here's how to develop a data science mindset:\n",
    "\n",
    "- Engage with data science communities, like our Slack community, Datatau, Quora, and data science Meetups.\n",
    "- Read data science blogs and keep up with the latest technologies. One handy way to do this is to subscribe to curated email newsletters.\n",
    "- Complete projects.  As a subscriber, you get access to our guided projects.  These help you go from learning concepts to analyzing data sets and discovering insights.  Once you've done a few of these, I recommended creating some projects of your own.\n",
    "- When you finish a project, communicate what you did.  This could be talking to a friend, starting a blog, or speaking at Meetups.  Our Slack community is also great for this.\n",
    "\n",
    "Vik\n",
    "Founder, Dataquest"
   ]
  },
  {
   "cell_type": "code",
   "execution_count": null,
   "metadata": {
    "collapsed": true
   },
   "outputs": [],
   "source": []
  }
 ],
 "metadata": {
  "anaconda-cloud": {},
  "kernelspec": {
   "display_name": "Python [Root]",
   "language": "python",
   "name": "Python [Root]"
  },
  "language_info": {
   "codemirror_mode": {
    "name": "ipython",
    "version": 3
   },
   "file_extension": ".py",
   "mimetype": "text/x-python",
   "name": "python",
   "nbconvert_exporter": "python",
   "pygments_lexer": "ipython3",
   "version": "3.5.2"
  }
 },
 "nbformat": 4,
 "nbformat_minor": 0
}

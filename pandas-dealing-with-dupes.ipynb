{
 "cells": [
  {
   "cell_type": "code",
   "execution_count": 1,
   "metadata": {
    "scrolled": true
   },
   "outputs": [],
   "source": [
    "from collections import namedtuple\n",
    "import numpy as np\n",
    "import pandas as pd"
   ]
  },
  {
   "cell_type": "markdown",
   "metadata": {
    "collapsed": true
   },
   "source": [
    "## dealing with dupes\n"
   ]
  },
  {
   "cell_type": "markdown",
   "metadata": {},
   "source": [
    "First up, some dummy data where we have repeated emails:"
   ]
  },
  {
   "cell_type": "code",
   "execution_count": 80,
   "metadata": {},
   "outputs": [
    {
     "data": {
      "text/html": [
       "<div>\n",
       "<style scoped>\n",
       "    .dataframe tbody tr th:only-of-type {\n",
       "        vertical-align: middle;\n",
       "    }\n",
       "\n",
       "    .dataframe tbody tr th {\n",
       "        vertical-align: top;\n",
       "    }\n",
       "\n",
       "    .dataframe thead th {\n",
       "        text-align: right;\n",
       "    }\n",
       "</style>\n",
       "<table border=\"1\" class=\"dataframe\">\n",
       "  <thead>\n",
       "    <tr style=\"text-align: right;\">\n",
       "      <th></th>\n",
       "      <th>Email</th>\n",
       "      <th>Phone</th>\n",
       "      <th>State</th>\n",
       "    </tr>\n",
       "  </thead>\n",
       "  <tbody>\n",
       "    <tr>\n",
       "      <th>0</th>\n",
       "      <td>email@gmail.com</td>\n",
       "      <td>123-456-7890</td>\n",
       "      <td>NY</td>\n",
       "    </tr>\n",
       "    <tr>\n",
       "      <th>1</th>\n",
       "      <td>email@gmail.com</td>\n",
       "      <td>321-654-0987</td>\n",
       "      <td>LA</td>\n",
       "    </tr>\n",
       "    <tr>\n",
       "      <th>2</th>\n",
       "      <td>person@gmail.com</td>\n",
       "      <td>123-789-4567</td>\n",
       "      <td>WA</td>\n",
       "    </tr>\n",
       "    <tr>\n",
       "      <th>3</th>\n",
       "      <td>dummy@gmail.com</td>\n",
       "      <td>873-345-3456</td>\n",
       "      <td>MN</td>\n",
       "    </tr>\n",
       "    <tr>\n",
       "      <th>4</th>\n",
       "      <td>dummy@gmail.com</td>\n",
       "      <td>123-345-3456</td>\n",
       "      <td>NY</td>\n",
       "    </tr>\n",
       "    <tr>\n",
       "      <th>5</th>\n",
       "      <td>email@gmail.com</td>\n",
       "      <td>000-000-0000</td>\n",
       "      <td>KY</td>\n",
       "    </tr>\n",
       "  </tbody>\n",
       "</table>\n",
       "</div>"
      ],
      "text/plain": [
       "              Email         Phone State\n",
       "0   email@gmail.com  123-456-7890    NY\n",
       "1   email@gmail.com  321-654-0987    LA\n",
       "2  person@gmail.com  123-789-4567    WA\n",
       "3   dummy@gmail.com  873-345-3456    MN\n",
       "4   dummy@gmail.com  123-345-3456    NY\n",
       "5   email@gmail.com  000-000-0000    KY"
      ]
     },
     "execution_count": 80,
     "metadata": {},
     "output_type": "execute_result"
    }
   ],
   "source": [
    "people = [(\"email@gmail.com\", \"123-456-7890\", \"NY\"),\n",
    "          (\"email@gmail.com\", \"321-654-0987\", \"LA\"),\n",
    "          (\"person@gmail.com\", \"123-789-4567\", \"WA\"),\n",
    "          (\"dummy@gmail.com\", \"873-345-3456\", \"MN\"),\n",
    "          (\"dummy@gmail.com\", \"123-345-3456\", \"NY\"), \n",
    "          (\"email@gmail.com\", \"000-000-0000\", \"KY\")]\n",
    "\n",
    "df = pd.DataFrame(data=people, columns=[\"Email\", \"Phone\", \"State\"])\n",
    "df"
   ]
  },
  {
   "cell_type": "markdown",
   "metadata": {},
   "source": [
    "so how to think about dealing with duplicate values in a given col? I'm sure there is a clever way to do this fastly, but heres a (relatively) simple one.\n",
    "\n",
    "It would be useful to know which one is the first dupe item, so we process that and ignore the others. So first up, I want to mark the first duplicate item.\n",
    "\n",
    "this looks complicated but what it does is: `gets a list of True vals for all the dupes` and does a AND with `a list of True vals for all first dupes`. "
   ]
  },
  {
   "cell_type": "code",
   "execution_count": 81,
   "metadata": {},
   "outputs": [
    {
     "data": {
      "text/html": [
       "<div>\n",
       "<style scoped>\n",
       "    .dataframe tbody tr th:only-of-type {\n",
       "        vertical-align: middle;\n",
       "    }\n",
       "\n",
       "    .dataframe tbody tr th {\n",
       "        vertical-align: top;\n",
       "    }\n",
       "\n",
       "    .dataframe thead th {\n",
       "        text-align: right;\n",
       "    }\n",
       "</style>\n",
       "<table border=\"1\" class=\"dataframe\">\n",
       "  <thead>\n",
       "    <tr style=\"text-align: right;\">\n",
       "      <th></th>\n",
       "      <th>Email</th>\n",
       "      <th>Phone</th>\n",
       "      <th>State</th>\n",
       "      <th>first_dupe</th>\n",
       "    </tr>\n",
       "  </thead>\n",
       "  <tbody>\n",
       "    <tr>\n",
       "      <th>0</th>\n",
       "      <td>email@gmail.com</td>\n",
       "      <td>123-456-7890</td>\n",
       "      <td>NY</td>\n",
       "      <td>True</td>\n",
       "    </tr>\n",
       "    <tr>\n",
       "      <th>1</th>\n",
       "      <td>email@gmail.com</td>\n",
       "      <td>321-654-0987</td>\n",
       "      <td>LA</td>\n",
       "      <td>False</td>\n",
       "    </tr>\n",
       "    <tr>\n",
       "      <th>2</th>\n",
       "      <td>person@gmail.com</td>\n",
       "      <td>123-789-4567</td>\n",
       "      <td>WA</td>\n",
       "      <td>False</td>\n",
       "    </tr>\n",
       "    <tr>\n",
       "      <th>3</th>\n",
       "      <td>dummy@gmail.com</td>\n",
       "      <td>873-345-3456</td>\n",
       "      <td>MN</td>\n",
       "      <td>True</td>\n",
       "    </tr>\n",
       "    <tr>\n",
       "      <th>4</th>\n",
       "      <td>dummy@gmail.com</td>\n",
       "      <td>123-345-3456</td>\n",
       "      <td>NY</td>\n",
       "      <td>False</td>\n",
       "    </tr>\n",
       "    <tr>\n",
       "      <th>5</th>\n",
       "      <td>email@gmail.com</td>\n",
       "      <td>000-000-0000</td>\n",
       "      <td>KY</td>\n",
       "      <td>False</td>\n",
       "    </tr>\n",
       "  </tbody>\n",
       "</table>\n",
       "</div>"
      ],
      "text/plain": [
       "              Email         Phone State  first_dupe\n",
       "0   email@gmail.com  123-456-7890    NY        True\n",
       "1   email@gmail.com  321-654-0987    LA       False\n",
       "2  person@gmail.com  123-789-4567    WA       False\n",
       "3   dummy@gmail.com  873-345-3456    MN        True\n",
       "4   dummy@gmail.com  123-345-3456    NY       False\n",
       "5   email@gmail.com  000-000-0000    KY       False"
      ]
     },
     "execution_count": 81,
     "metadata": {},
     "output_type": "execute_result"
    }
   ],
   "source": [
    "df[\"first_dupe\"] = df.duplicated(\"Email\", keep=False) & ~df.duplicated(\"Email\", keep=\"first\")\n",
    "df"
   ]
  },
  {
   "cell_type": "markdown",
   "metadata": {},
   "source": [
    "so now we need a func to do some action with this new found knowledge of the first dupe:"
   ]
  },
  {
   "cell_type": "code",
   "execution_count": 82,
   "metadata": {},
   "outputs": [
    {
     "data": {
      "text/html": [
       "<div>\n",
       "<style scoped>\n",
       "    .dataframe tbody tr th:only-of-type {\n",
       "        vertical-align: middle;\n",
       "    }\n",
       "\n",
       "    .dataframe tbody tr th {\n",
       "        vertical-align: top;\n",
       "    }\n",
       "\n",
       "    .dataframe thead th {\n",
       "        text-align: right;\n",
       "    }\n",
       "</style>\n",
       "<table border=\"1\" class=\"dataframe\">\n",
       "  <thead>\n",
       "    <tr style=\"text-align: right;\">\n",
       "      <th></th>\n",
       "      <th>Email</th>\n",
       "      <th>Phone</th>\n",
       "      <th>State</th>\n",
       "      <th>first_dupe</th>\n",
       "    </tr>\n",
       "  </thead>\n",
       "  <tbody>\n",
       "    <tr>\n",
       "      <th>0</th>\n",
       "      <td>email@gmail.com</td>\n",
       "      <td>123-456-7890, 321-654-0987, 000-000-0000</td>\n",
       "      <td>NY, LA, KY</td>\n",
       "      <td>False</td>\n",
       "    </tr>\n",
       "    <tr>\n",
       "      <th>1</th>\n",
       "      <td>email@gmail.com</td>\n",
       "      <td>321-654-0987</td>\n",
       "      <td>LA</td>\n",
       "      <td>False</td>\n",
       "    </tr>\n",
       "    <tr>\n",
       "      <th>2</th>\n",
       "      <td>person@gmail.com</td>\n",
       "      <td>123-789-4567</td>\n",
       "      <td>WA</td>\n",
       "      <td>False</td>\n",
       "    </tr>\n",
       "    <tr>\n",
       "      <th>3</th>\n",
       "      <td>dummy@gmail.com</td>\n",
       "      <td>873-345-3456, 123-345-3456</td>\n",
       "      <td>MN, NY</td>\n",
       "      <td>False</td>\n",
       "    </tr>\n",
       "    <tr>\n",
       "      <th>4</th>\n",
       "      <td>dummy@gmail.com</td>\n",
       "      <td>123-345-3456</td>\n",
       "      <td>NY</td>\n",
       "      <td>False</td>\n",
       "    </tr>\n",
       "    <tr>\n",
       "      <th>5</th>\n",
       "      <td>email@gmail.com</td>\n",
       "      <td>000-000-0000</td>\n",
       "      <td>KY</td>\n",
       "      <td>False</td>\n",
       "    </tr>\n",
       "  </tbody>\n",
       "</table>\n",
       "</div>"
      ],
      "text/plain": [
       "              Email                                     Phone       State  \\\n",
       "0   email@gmail.com  123-456-7890, 321-654-0987, 000-000-0000  NY, LA, KY   \n",
       "1   email@gmail.com                              321-654-0987          LA   \n",
       "2  person@gmail.com                              123-789-4567          WA   \n",
       "3   dummy@gmail.com                873-345-3456, 123-345-3456      MN, NY   \n",
       "4   dummy@gmail.com                              123-345-3456          NY   \n",
       "5   email@gmail.com                              000-000-0000          KY   \n",
       "\n",
       "   first_dupe  \n",
       "0       False  \n",
       "1       False  \n",
       "2       False  \n",
       "3       False  \n",
       "4       False  \n",
       "5       False  "
      ]
     },
     "execution_count": 82,
     "metadata": {},
     "output_type": "execute_result"
    }
   ],
   "source": [
    "def combine_rows(row, key=\"Email\", cols_to_combine=[\"Phone\", \"State\"]):\n",
    "    \"\"\"takes in a row, looks at the key column\n",
    "        if its the first dupe, combines the data in cols_to_combine with the other rows with same key\n",
    "        needs a dataframe with a bool column first_dupe with True if the row is the first dupe\"\"\"\n",
    "    \n",
    "    if row[\"first_dupe\"] == True:\n",
    "        # making a df of dupes item\n",
    "        dupes = df[df[key]==row[key]]\n",
    "        \n",
    "        for i, dupe_row in dupes.iloc[1:].iterrows():   # skipping the first row, since thats our first_dupe\n",
    "            for col in cols_to_combine:\n",
    "                row[col] += \", \" + dupe_row[col]\n",
    "        # make sure first_dupe doesn't get processed again\n",
    "        row.first_dupe = False  \n",
    "    return row\n",
    "    \n",
    "df = df.apply(combine_rows, axis=1, result_type=None)\n",
    "df"
   ]
  },
  {
   "cell_type": "markdown",
   "metadata": {},
   "source": [
    "Now we can run the pandas drop_duplicates command:"
   ]
  },
  {
   "cell_type": "code",
   "execution_count": 83,
   "metadata": {},
   "outputs": [
    {
     "data": {
      "text/html": [
       "<div>\n",
       "<style scoped>\n",
       "    .dataframe tbody tr th:only-of-type {\n",
       "        vertical-align: middle;\n",
       "    }\n",
       "\n",
       "    .dataframe tbody tr th {\n",
       "        vertical-align: top;\n",
       "    }\n",
       "\n",
       "    .dataframe thead th {\n",
       "        text-align: right;\n",
       "    }\n",
       "</style>\n",
       "<table border=\"1\" class=\"dataframe\">\n",
       "  <thead>\n",
       "    <tr style=\"text-align: right;\">\n",
       "      <th></th>\n",
       "      <th>Email</th>\n",
       "      <th>Phone</th>\n",
       "      <th>State</th>\n",
       "      <th>first_dupe</th>\n",
       "    </tr>\n",
       "  </thead>\n",
       "  <tbody>\n",
       "    <tr>\n",
       "      <th>0</th>\n",
       "      <td>email@gmail.com</td>\n",
       "      <td>123-456-7890, 321-654-0987, 000-000-0000</td>\n",
       "      <td>NY, LA, KY</td>\n",
       "      <td>False</td>\n",
       "    </tr>\n",
       "    <tr>\n",
       "      <th>2</th>\n",
       "      <td>person@gmail.com</td>\n",
       "      <td>123-789-4567</td>\n",
       "      <td>WA</td>\n",
       "      <td>False</td>\n",
       "    </tr>\n",
       "    <tr>\n",
       "      <th>3</th>\n",
       "      <td>dummy@gmail.com</td>\n",
       "      <td>873-345-3456, 123-345-3456</td>\n",
       "      <td>MN, NY</td>\n",
       "      <td>False</td>\n",
       "    </tr>\n",
       "  </tbody>\n",
       "</table>\n",
       "</div>"
      ],
      "text/plain": [
       "              Email                                     Phone       State  \\\n",
       "0   email@gmail.com  123-456-7890, 321-654-0987, 000-000-0000  NY, LA, KY   \n",
       "2  person@gmail.com                              123-789-4567          WA   \n",
       "3   dummy@gmail.com                873-345-3456, 123-345-3456      MN, NY   \n",
       "\n",
       "   first_dupe  \n",
       "0       False  \n",
       "2       False  \n",
       "3       False  "
      ]
     },
     "execution_count": 83,
     "metadata": {},
     "output_type": "execute_result"
    }
   ],
   "source": [
    "df.drop_duplicates(subset=[\"Email\"], inplace=True)\n",
    "df"
   ]
  },
  {
   "cell_type": "markdown",
   "metadata": {},
   "source": [
    "And done! so the whole thing could go into a func called `process_df` which takes in a dateframe and returns the modified one."
   ]
  },
  {
   "cell_type": "code",
   "execution_count": null,
   "metadata": {},
   "outputs": [],
   "source": []
  }
 ],
 "metadata": {
  "anaconda-cloud": {},
  "kernelspec": {
   "display_name": "Python 3",
   "language": "python",
   "name": "python3"
  },
  "language_info": {
   "codemirror_mode": {
    "name": "ipython",
    "version": 3
   },
   "file_extension": ".py",
   "mimetype": "text/x-python",
   "name": "python",
   "nbconvert_exporter": "python",
   "pygments_lexer": "ipython3",
   "version": "3.6.5"
  }
 },
 "nbformat": 4,
 "nbformat_minor": 1
}

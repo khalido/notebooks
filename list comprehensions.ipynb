{
 "cells": [
  {
   "cell_type": "code",
   "execution_count": 1,
   "metadata": {},
   "outputs": [],
   "source": [
    "import random"
   ]
  },
  {
   "cell_type": "markdown",
   "metadata": {},
   "source": [
    "Each card is represented as a 2 character string, i.e 2 of Hearts is `'2H'`. Now there are 52 cards, so a clever way to generate all 52 of them is through a list comprehension:"
   ]
  },
  {
   "cell_type": "code",
   "execution_count": 2,
   "metadata": {},
   "outputs": [
    {
     "name": "stdout",
     "output_type": "stream",
     "text": [
      "['2S', '2H', '2D', '2C', '3S', '3H', '3D', '3C', '4S', '4H', '4D', '4C', '5S', '5H', '5D', '5C', '6S', '6H', '6D', '6C', '7S', '7H', '7D', '7C', '8S', '8H', '8D', '8C', '9S', '9H', '9D', '9C', 'TS', 'TH', 'TD', 'TC', 'JS', 'JH', 'JD', 'JC', 'QS', 'QH', 'QD', 'QC', 'KS', 'KH', 'KD', 'KC', 'AS', 'AH', 'AD', 'AC']\n"
     ]
    }
   ],
   "source": [
    "deck = [r+s for r in '23456789TJQKA' for s in 'SHDC']\n",
    "print(deck)"
   ]
  },
  {
   "cell_type": "markdown",
   "metadata": {},
   "source": [
    "Now that we have a deck, the next step is to deal cards from it:"
   ]
  },
  {
   "cell_type": "code",
   "execution_count": 3,
   "metadata": {},
   "outputs": [
    {
     "data": {
      "text/plain": [
       "[['KS', '5H', '4S', 'KC', '4C'],\n",
       " ['9S', '7D', '6H', '6S', '3D'],\n",
       " ['3C', '5C', '4H', '6C', '5S']]"
      ]
     },
     "execution_count": 3,
     "metadata": {},
     "output_type": "execute_result"
    }
   ],
   "source": [
    "def deal(numhands, n=5, deck=[r+s for r in '23456789TJQKA' for s in 'SHDC']):\n",
    "    \"\"\"takes in numhands, and optionaly a deck, shuffles and returns a list of numhands hands\"\"\"\n",
    "    random.shuffle(deck)\n",
    "    return [deck[i*n:n*(i+1)] for i in range(numhands)]\n",
    "\n",
    "deal(3)"
   ]
  }
 ],
 "metadata": {
  "anaconda-cloud": {},
  "kernelspec": {
   "display_name": "Python 3",
   "language": "python",
   "name": "python3"
  },
  "language_info": {
   "codemirror_mode": {
    "name": "ipython",
    "version": 3
   },
   "file_extension": ".py",
   "mimetype": "text/x-python",
   "name": "python",
   "nbconvert_exporter": "python",
   "pygments_lexer": "ipython3",
   "version": "3.6.3"
  }
 },
 "nbformat": 4,
 "nbformat_minor": 1
}

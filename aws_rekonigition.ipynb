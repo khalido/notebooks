{
 "cells": [
  {
   "cell_type": "code",
   "execution_count": 56,
   "metadata": {},
   "outputs": [],
   "source": [
    "import boto3\n",
    "from configparser import ConfigParser\n",
    "import requests\n",
    "from IPython.display import display, HTML\n",
    "import pandas as pd\n",
    "import numpy as np\n",
    "\n",
    "%matplotlib inline\n",
    "import matplotlib.pyplot as plt\n",
    "from PIL import Image"
   ]
  },
  {
   "cell_type": "code",
   "execution_count": 22,
   "metadata": {},
   "outputs": [
    {
     "name": "stdout",
     "output_type": "stream",
     "text": [
      "loaded keys for: ['amazon', 'amazon_katie', 'nsw_opendata', 'mapbox']\n"
     ]
    }
   ],
   "source": [
    "# load keys\n",
    "keys = ConfigParser()\n",
    "keys.read('../keys.secret')\n",
    "print(f\"loaded keys for: {keys.sections()}\")"
   ]
  },
  {
   "cell_type": "code",
   "execution_count": 26,
   "metadata": {},
   "outputs": [],
   "source": [
    "rekognition = boto3.client(\"rekognition\", keys[\"amazon\"][\"region\"])"
   ]
  },
  {
   "cell_type": "code",
   "execution_count": 54,
   "metadata": {},
   "outputs": [
    {
     "data": {
      "text/plain": [
       "['https://80d2853cc4def76b377d-54344bc01a8b066c84096a8e7a3499ac.ssl.cf1.rackcdn.com/original/434140.jpg',\n",
       " 'https://80d2853cc4def76b377d-54344bc01a8b066c84096a8e7a3499ac.ssl.cf1.rackcdn.com/original/434502.jpg',\n",
       " 'https://80d2853cc4def76b377d-54344bc01a8b066c84096a8e7a3499ac.ssl.cf1.rackcdn.com/original/434922.jpg',\n",
       " 'https://80d2853cc4def76b377d-54344bc01a8b066c84096a8e7a3499ac.ssl.cf1.rackcdn.com/original/434947.jpg',\n",
       " 'https://80d2853cc4def76b377d-54344bc01a8b066c84096a8e7a3499ac.ssl.cf1.rackcdn.com/original/480835.jpg']"
      ]
     },
     "execution_count": 54,
     "metadata": {},
     "output_type": "execute_result"
    }
   ],
   "source": [
    "with open(\"data/summit_post_urls_selected.txt\", \"r\") as f:\n",
    "    image_links = f.read().strip().split(\"\\n\")\n",
    "    \n",
    "image_links[:5]"
   ]
  },
  {
   "cell_type": "code",
   "execution_count": 64,
   "metadata": {},
   "outputs": [
    {
     "data": {
      "text/plain": [
       "{'Labels': [{'Name': 'Rock', 'Confidence': 70.87091827392578},\n",
       "  {'Name': 'Outdoors', 'Confidence': 67.1398696899414},\n",
       "  {'Name': 'Snow', 'Confidence': 67.1398696899414},\n",
       "  {'Name': 'Mountain', 'Confidence': 62.174232482910156},\n",
       "  {'Name': 'Nature', 'Confidence': 62.174232482910156},\n",
       "  {'Name': 'Adventure', 'Confidence': 51.27058029174805},\n",
       "  {'Name': 'Leisure Activities', 'Confidence': 51.27058029174805},\n",
       "  {'Name': 'Cap', 'Confidence': 50.66568374633789},\n",
       "  {'Name': 'Clothing', 'Confidence': 50.66568374633789},\n",
       "  {'Name': 'Hat', 'Confidence': 50.66568374633789}],\n",
       " 'ResponseMetadata': {'RequestId': 'dcd00500-b18f-11e8-b73a-5d1f565d7fb5',\n",
       "  'HTTPStatusCode': 200,\n",
       "  'HTTPHeaders': {'content-type': 'application/x-amz-json-1.1',\n",
       "   'date': 'Thu, 06 Sep 2018 04:46:48 GMT',\n",
       "   'x-amzn-requestid': 'dcd00500-b18f-11e8-b73a-5d1f565d7fb5',\n",
       "   'content-length': '513',\n",
       "   'connection': 'keep-alive'},\n",
       "  'RetryAttempts': 0}}"
      ]
     },
     "execution_count": 64,
     "metadata": {},
     "output_type": "execute_result"
    }
   ],
   "source": [
    "r = requests.get(image_links[11])\n",
    "rr = rekognition.detect_labels(Image={\"Bytes\": r.content})\n",
    "rr"
   ]
  },
  {
   "cell_type": "code",
   "execution_count": 61,
   "metadata": {},
   "outputs": [
    {
     "ename": "ValueError",
     "evalue": "invalid PNG header",
     "output_type": "error",
     "traceback": [
      "\u001b[0;31m---------------------------------------------------------------------------\u001b[0m",
      "\u001b[0;31mValueError\u001b[0m                                Traceback (most recent call last)",
      "\u001b[0;32m<ipython-input-61-ce9323cbfc7d>\u001b[0m in \u001b[0;36m<module>\u001b[0;34m()\u001b[0m\n\u001b[1;32m     11\u001b[0m     \u001b[0mplt\u001b[0m\u001b[0;34m.\u001b[0m\u001b[0mshow\u001b[0m\u001b[0;34m(\u001b[0m\u001b[0;34m)\u001b[0m\u001b[0;34m\u001b[0m\u001b[0m\n\u001b[1;32m     12\u001b[0m \u001b[0;34m\u001b[0m\u001b[0m\n\u001b[0;32m---> 13\u001b[0;31m \u001b[0mplot_images\u001b[0m\u001b[0;34m(\u001b[0m\u001b[0mimage_links\u001b[0m\u001b[0;34m[\u001b[0m\u001b[0;36m10\u001b[0m\u001b[0;34m:\u001b[0m\u001b[0;36m18\u001b[0m\u001b[0;34m]\u001b[0m\u001b[0;34m)\u001b[0m\u001b[0;34m\u001b[0m\u001b[0m\n\u001b[0m",
      "\u001b[0;32m<ipython-input-61-ce9323cbfc7d>\u001b[0m in \u001b[0;36mplot_images\u001b[0;34m(links, labels, rows)\u001b[0m\n\u001b[1;32m      5\u001b[0m \u001b[0;34m\u001b[0m\u001b[0m\n\u001b[1;32m      6\u001b[0m     \u001b[0;32mfor\u001b[0m \u001b[0max\u001b[0m\u001b[0;34m,\u001b[0m \u001b[0murl\u001b[0m \u001b[0;32min\u001b[0m \u001b[0mzip\u001b[0m\u001b[0;34m(\u001b[0m\u001b[0maxes\u001b[0m\u001b[0;34m.\u001b[0m\u001b[0mflat\u001b[0m\u001b[0;34m,\u001b[0m \u001b[0mlinks\u001b[0m\u001b[0;34m)\u001b[0m\u001b[0;34m:\u001b[0m\u001b[0;34m\u001b[0m\u001b[0m\n\u001b[0;32m----> 7\u001b[0;31m         \u001b[0mimg\u001b[0m \u001b[0;34m=\u001b[0m \u001b[0mplt\u001b[0m\u001b[0;34m.\u001b[0m\u001b[0mimread\u001b[0m\u001b[0;34m(\u001b[0m\u001b[0murl\u001b[0m\u001b[0;34m)\u001b[0m\u001b[0;34m\u001b[0m\u001b[0m\n\u001b[0m\u001b[1;32m      8\u001b[0m         \u001b[0max\u001b[0m\u001b[0;34m.\u001b[0m\u001b[0mimshow\u001b[0m\u001b[0;34m(\u001b[0m\u001b[0mimg\u001b[0m\u001b[0;34m)\u001b[0m\u001b[0;34m\u001b[0m\u001b[0m\n\u001b[1;32m      9\u001b[0m         \u001b[0max\u001b[0m\u001b[0;34m.\u001b[0m\u001b[0mset_title\u001b[0m\u001b[0;34m(\u001b[0m\u001b[0mlabel_names\u001b[0m\u001b[0;34m[\u001b[0m\u001b[0mnp\u001b[0m\u001b[0;34m.\u001b[0m\u001b[0margmax\u001b[0m\u001b[0;34m(\u001b[0m\u001b[0mlabel\u001b[0m\u001b[0;34m)\u001b[0m\u001b[0;34m]\u001b[0m\u001b[0;34m)\u001b[0m\u001b[0;34m\u001b[0m\u001b[0m\n",
      "\u001b[0;32m/anaconda3/lib/python3.6/site-packages/matplotlib/pyplot.py\u001b[0m in \u001b[0;36mimread\u001b[0;34m(*args, **kwargs)\u001b[0m\n\u001b[1;32m   2379\u001b[0m \u001b[0;34m@\u001b[0m\u001b[0mdocstring\u001b[0m\u001b[0;34m.\u001b[0m\u001b[0mcopy_dedent\u001b[0m\u001b[0;34m(\u001b[0m\u001b[0m_imread\u001b[0m\u001b[0;34m)\u001b[0m\u001b[0;34m\u001b[0m\u001b[0m\n\u001b[1;32m   2380\u001b[0m \u001b[0;32mdef\u001b[0m \u001b[0mimread\u001b[0m\u001b[0;34m(\u001b[0m\u001b[0;34m*\u001b[0m\u001b[0margs\u001b[0m\u001b[0;34m,\u001b[0m \u001b[0;34m**\u001b[0m\u001b[0mkwargs\u001b[0m\u001b[0;34m)\u001b[0m\u001b[0;34m:\u001b[0m\u001b[0;34m\u001b[0m\u001b[0m\n\u001b[0;32m-> 2381\u001b[0;31m     \u001b[0;32mreturn\u001b[0m \u001b[0m_imread\u001b[0m\u001b[0;34m(\u001b[0m\u001b[0;34m*\u001b[0m\u001b[0margs\u001b[0m\u001b[0;34m,\u001b[0m \u001b[0;34m**\u001b[0m\u001b[0mkwargs\u001b[0m\u001b[0;34m)\u001b[0m\u001b[0;34m\u001b[0m\u001b[0m\n\u001b[0m\u001b[1;32m   2382\u001b[0m \u001b[0;34m\u001b[0m\u001b[0m\n\u001b[1;32m   2383\u001b[0m \u001b[0;34m\u001b[0m\u001b[0m\n",
      "\u001b[0;32m/anaconda3/lib/python3.6/site-packages/matplotlib/image.py\u001b[0m in \u001b[0;36mimread\u001b[0;34m(fname, format)\u001b[0m\n\u001b[1;32m   1371\u001b[0m         \u001b[0;32mif\u001b[0m \u001b[0mlen\u001b[0m\u001b[0;34m(\u001b[0m\u001b[0mparsed\u001b[0m\u001b[0;34m.\u001b[0m\u001b[0mscheme\u001b[0m\u001b[0;34m)\u001b[0m \u001b[0;34m>\u001b[0m \u001b[0;36m1\u001b[0m\u001b[0;34m:\u001b[0m\u001b[0;34m\u001b[0m\u001b[0m\n\u001b[1;32m   1372\u001b[0m             \u001b[0mfd\u001b[0m \u001b[0;34m=\u001b[0m \u001b[0mBytesIO\u001b[0m\u001b[0;34m(\u001b[0m\u001b[0murlopen\u001b[0m\u001b[0;34m(\u001b[0m\u001b[0mfname\u001b[0m\u001b[0;34m)\u001b[0m\u001b[0;34m.\u001b[0m\u001b[0mread\u001b[0m\u001b[0;34m(\u001b[0m\u001b[0;34m)\u001b[0m\u001b[0;34m)\u001b[0m\u001b[0;34m\u001b[0m\u001b[0m\n\u001b[0;32m-> 1373\u001b[0;31m             \u001b[0;32mreturn\u001b[0m \u001b[0mhandler\u001b[0m\u001b[0;34m(\u001b[0m\u001b[0mfd\u001b[0m\u001b[0;34m)\u001b[0m\u001b[0;34m\u001b[0m\u001b[0m\n\u001b[0m\u001b[1;32m   1374\u001b[0m         \u001b[0;32melse\u001b[0m\u001b[0;34m:\u001b[0m\u001b[0;34m\u001b[0m\u001b[0m\n\u001b[1;32m   1375\u001b[0m             \u001b[0;32mwith\u001b[0m \u001b[0mopen\u001b[0m\u001b[0;34m(\u001b[0m\u001b[0mfname\u001b[0m\u001b[0;34m,\u001b[0m \u001b[0;34m'rb'\u001b[0m\u001b[0;34m)\u001b[0m \u001b[0;32mas\u001b[0m \u001b[0mfd\u001b[0m\u001b[0;34m:\u001b[0m\u001b[0;34m\u001b[0m\u001b[0m\n",
      "\u001b[0;31mValueError\u001b[0m: invalid PNG header"
     ]
    },
    {
     "data": {
      "image/png": "[encoded data removed]",
      "text/plain": [
       "<Figure size 936x360 with 8 Axes>"
      ]
     },
     "metadata": {},
     "output_type": "display_data"
    }
   ],
   "source": [
    "def plot_images(links=image_links[:8], labels=None, rows=2):\n",
    "        \n",
    "    cols = int(np.ceil((len(links)/rows)))\n",
    "    fig, axes = plt.subplots(2,cols, figsize=(13,5))\n",
    "    \n",
    "    for ax, url in zip(axes.flat, links):\n",
    "        img = plt.imread(url)\n",
    "        ax.imshow(img)\n",
    "        ax.set_title(label_names[np.argmax(label)])\n",
    "        ax.axis('off')\n",
    "    plt.show()\n",
    "        \n",
    "plot_images(image_links[10:18])"
   ]
  },
  {
   "cell_type": "code",
   "execution_count": 63,
   "metadata": {},
   "outputs": [
    {
     "data": {
      "text/plain": [
       "{'Labels': [{'Name': 'Rock', 'Confidence': 70.87091827392578},\n",
       "  {'Name': 'Outdoors', 'Confidence': 67.1398696899414},\n",
       "  {'Name': 'Snow', 'Confidence': 67.1398696899414},\n",
       "  {'Name': 'Mountain', 'Confidence': 62.174232482910156},\n",
       "  {'Name': 'Nature', 'Confidence': 62.174232482910156},\n",
       "  {'Name': 'Adventure', 'Confidence': 51.27058029174805},\n",
       "  {'Name': 'Leisure Activities', 'Confidence': 51.27058029174805},\n",
       "  {'Name': 'Cap', 'Confidence': 50.66568374633789},\n",
       "  {'Name': 'Clothing', 'Confidence': 50.66568374633789},\n",
       "  {'Name': 'Hat', 'Confidence': 50.66568374633789}],\n",
       " 'ResponseMetadata': {'RequestId': 'c8d7de29-b18f-11e8-b73a-5d1f565d7fb5',\n",
       "  'HTTPStatusCode': 200,\n",
       "  'HTTPHeaders': {'content-type': 'application/x-amz-json-1.1',\n",
       "   'date': 'Thu, 06 Sep 2018 04:46:14 GMT',\n",
       "   'x-amzn-requestid': 'c8d7de29-b18f-11e8-b73a-5d1f565d7fb5',\n",
       "   'content-length': '513',\n",
       "   'connection': 'keep-alive'},\n",
       "  'RetryAttempts': 0}}"
      ]
     },
     "execution_count": 63,
     "metadata": {},
     "output_type": "execute_result"
    }
   ],
   "source": [
    "r = requests.get(image_links[11])\n",
    "rr = rekognition.detect_labels(Image={\"Bytes\": r.content})\n",
    "rr"
   ]
  },
  {
   "cell_type": "code",
   "execution_count": 62,
   "metadata": {},
   "outputs": [
    {
     "name": "stdout",
     "output_type": "stream",
     "text": [
      "{'FaceDetails': [{'BoundingBox': {'Width': 0.04510921239852905, 'Height': 0.06014561653137207, 'Left': 0.4724596440792084, 'Top': 0.31972143054008484}, 'AgeRange': {'Low': 48, 'High': 68}, 'Smile': {'Value': True, 'Confidence': 89.26968383789062}, 'Eyeglasses': {'Value': False, 'Confidence': 99.86251831054688}, 'Sunglasses': {'Value': False, 'Confidence': 99.91633605957031}, 'Gender': {'Value': 'Female', 'Confidence': 99.17916870117188}, 'Beard': {'Value': False, 'Confidence': 99.13652801513672}, 'Mustache': {'Value': False, 'Confidence': 99.78054809570312}, 'EyesOpen': {'Value': True, 'Confidence': 79.03730773925781}, 'MouthOpen': {'Value': False, 'Confidence': 99.96849060058594}, 'Emotions': [{'Type': 'HAPPY', 'Confidence': 91.36492156982422}, {'Type': 'SAD', 'Confidence': 1.762455701828003}, {'Type': 'CALM', 'Confidence': 0.7078230381011963}], 'Landmarks': [{'Type': 'eyeLeft', 'X': 0.49013519287109375, 'Y': 0.3416643440723419}, {'Type': 'eyeRight', 'X': 0.5056005120277405, 'Y': 0.3468749225139618}, {'Type': 'nose', 'X': 0.49497175216674805, 'Y': 0.3582589626312256}, {'Type': 'mouthLeft', 'X': 0.4870934784412384, 'Y': 0.3652178645133972}, {'Type': 'mouthRight', 'X': 0.499199241399765, 'Y': 0.3699216842651367}, {'Type': 'leftPupil', 'X': 0.4896513521671295, 'Y': 0.34127452969551086}, {'Type': 'rightPupil', 'X': 0.5064135789871216, 'Y': 0.34719887375831604}, {'Type': 'leftEyeBrowLeft', 'X': 0.4869389832019806, 'Y': 0.3333006501197815}, {'Type': 'leftEyeBrowUp', 'X': 0.49112382531166077, 'Y': 0.33487793803215027}, {'Type': 'leftEyeBrowRight', 'X': 0.4944207966327667, 'Y': 0.338734894990921}, {'Type': 'rightEyeBrowLeft', 'X': 0.5027241706848145, 'Y': 0.34132641553878784}, {'Type': 'rightEyeBrowUp', 'X': 0.5082314610481262, 'Y': 0.3405515253543854}, {'Type': 'rightEyeBrowRight', 'X': 0.5124428868293762, 'Y': 0.3437612056732178}, {'Type': 'leftEyeLeft', 'X': 0.48721396923065186, 'Y': 0.34100356698036194}, {'Type': 'leftEyeRight', 'X': 0.49293023347854614, 'Y': 0.34285300970077515}, {'Type': 'leftEyeUp', 'X': 0.49034279584884644, 'Y': 0.3404390513896942}, {'Type': 'leftEyeDown', 'X': 0.4899907410144806, 'Y': 0.3426257371902466}, {'Type': 'rightEyeLeft', 'X': 0.5027294754981995, 'Y': 0.3460296392440796}, {'Type': 'rightEyeRight', 'X': 0.5083913207054138, 'Y': 0.3480817675590515}, {'Type': 'rightEyeUp', 'X': 0.5057849287986755, 'Y': 0.34572476148605347}, {'Type': 'rightEyeDown', 'X': 0.5054561495780945, 'Y': 0.34784427285194397}, {'Type': 'noseLeft', 'X': 0.4909692406654358, 'Y': 0.3589649498462677}, {'Type': 'noseRight', 'X': 0.4981728196144104, 'Y': 0.3620806038379669}, {'Type': 'mouthUp', 'X': 0.49282336235046387, 'Y': 0.3671466112136841}, {'Type': 'mouthDown', 'X': 0.49211958050727844, 'Y': 0.37090039253234863}], 'Pose': {'Roll': 13.651742935180664, 'Yaw': 2.252845525741577, 'Pitch': -7.311600208282471}, 'Quality': {'Brightness': 46.9129638671875, 'Sharpness': 76.30530548095703}, 'Confidence': 99.99072265625}], 'ResponseMetadata': {'RequestId': 'bcde610b-b18f-11e8-b73a-5d1f565d7fb5', 'HTTPStatusCode': 200, 'HTTPHeaders': {'content-type': 'application/x-amz-json-1.1', 'date': 'Thu, 06 Sep 2018 04:45:54 GMT', 'x-amzn-requestid': 'bcde610b-b18f-11e8-b73a-5d1f565d7fb5', 'content-length': '2729', 'connection': 'keep-alive'}, 'RetryAttempts': 0}}\n"
     ]
    }
   ],
   "source": [
    "response = requests.get(image_links[10])\n",
    "response_content = response.content\n",
    "rekognition_response = rekognition.detect_faces(Image={'Bytes': response_content}, Attributes=['ALL'])\n",
    "                           \n",
    "print(rekognition_response)"
   ]
  },
  {
   "cell_type": "code",
   "execution_count": 65,
   "metadata": {},
   "outputs": [
    {
     "data": {
      "text/plain": [
       "dict_keys(['FaceDetails', 'ResponseMetadata'])"
      ]
     },
     "execution_count": 65,
     "metadata": {},
     "output_type": "execute_result"
    }
   ],
   "source": [
    "rekognition_response.keys()"
   ]
  },
  {
   "cell_type": "code",
   "execution_count": 66,
   "metadata": {},
   "outputs": [
    {
     "data": {
      "text/plain": [
       "[{'BoundingBox': {'Width': 0.04510921239852905,\n",
       "   'Height': 0.06014561653137207,\n",
       "   'Left': 0.4724596440792084,\n",
       "   'Top': 0.31972143054008484},\n",
       "  'AgeRange': {'Low': 48, 'High': 68},\n",
       "  'Smile': {'Value': True, 'Confidence': 89.26968383789062},\n",
       "  'Eyeglasses': {'Value': False, 'Confidence': 99.86251831054688},\n",
       "  'Sunglasses': {'Value': False, 'Confidence': 99.91633605957031},\n",
       "  'Gender': {'Value': 'Female', 'Confidence': 99.17916870117188},\n",
       "  'Beard': {'Value': False, 'Confidence': 99.13652801513672},\n",
       "  'Mustache': {'Value': False, 'Confidence': 99.78054809570312},\n",
       "  'EyesOpen': {'Value': True, 'Confidence': 79.03730773925781},\n",
       "  'MouthOpen': {'Value': False, 'Confidence': 99.96849060058594},\n",
       "  'Emotions': [{'Type': 'HAPPY', 'Confidence': 91.36492156982422},\n",
       "   {'Type': 'SAD', 'Confidence': 1.762455701828003},\n",
       "   {'Type': 'CALM', 'Confidence': 0.7078230381011963}],\n",
       "  'Landmarks': [{'Type': 'eyeLeft',\n",
       "    'X': 0.49013519287109375,\n",
       "    'Y': 0.3416643440723419},\n",
       "   {'Type': 'eyeRight', 'X': 0.5056005120277405, 'Y': 0.3468749225139618},\n",
       "   {'Type': 'nose', 'X': 0.49497175216674805, 'Y': 0.3582589626312256},\n",
       "   {'Type': 'mouthLeft', 'X': 0.4870934784412384, 'Y': 0.3652178645133972},\n",
       "   {'Type': 'mouthRight', 'X': 0.499199241399765, 'Y': 0.3699216842651367},\n",
       "   {'Type': 'leftPupil', 'X': 0.4896513521671295, 'Y': 0.34127452969551086},\n",
       "   {'Type': 'rightPupil', 'X': 0.5064135789871216, 'Y': 0.34719887375831604},\n",
       "   {'Type': 'leftEyeBrowLeft',\n",
       "    'X': 0.4869389832019806,\n",
       "    'Y': 0.3333006501197815},\n",
       "   {'Type': 'leftEyeBrowUp',\n",
       "    'X': 0.49112382531166077,\n",
       "    'Y': 0.33487793803215027},\n",
       "   {'Type': 'leftEyeBrowRight',\n",
       "    'X': 0.4944207966327667,\n",
       "    'Y': 0.338734894990921},\n",
       "   {'Type': 'rightEyeBrowLeft',\n",
       "    'X': 0.5027241706848145,\n",
       "    'Y': 0.34132641553878784},\n",
       "   {'Type': 'rightEyeBrowUp',\n",
       "    'X': 0.5082314610481262,\n",
       "    'Y': 0.3405515253543854},\n",
       "   {'Type': 'rightEyeBrowRight',\n",
       "    'X': 0.5124428868293762,\n",
       "    'Y': 0.3437612056732178},\n",
       "   {'Type': 'leftEyeLeft', 'X': 0.48721396923065186, 'Y': 0.34100356698036194},\n",
       "   {'Type': 'leftEyeRight',\n",
       "    'X': 0.49293023347854614,\n",
       "    'Y': 0.34285300970077515},\n",
       "   {'Type': 'leftEyeUp', 'X': 0.49034279584884644, 'Y': 0.3404390513896942},\n",
       "   {'Type': 'leftEyeDown', 'X': 0.4899907410144806, 'Y': 0.3426257371902466},\n",
       "   {'Type': 'rightEyeLeft', 'X': 0.5027294754981995, 'Y': 0.3460296392440796},\n",
       "   {'Type': 'rightEyeRight', 'X': 0.5083913207054138, 'Y': 0.3480817675590515},\n",
       "   {'Type': 'rightEyeUp', 'X': 0.5057849287986755, 'Y': 0.34572476148605347},\n",
       "   {'Type': 'rightEyeDown', 'X': 0.5054561495780945, 'Y': 0.34784427285194397},\n",
       "   {'Type': 'noseLeft', 'X': 0.4909692406654358, 'Y': 0.3589649498462677},\n",
       "   {'Type': 'noseRight', 'X': 0.4981728196144104, 'Y': 0.3620806038379669},\n",
       "   {'Type': 'mouthUp', 'X': 0.49282336235046387, 'Y': 0.3671466112136841},\n",
       "   {'Type': 'mouthDown', 'X': 0.49211958050727844, 'Y': 0.37090039253234863}],\n",
       "  'Pose': {'Roll': 13.651742935180664,\n",
       "   'Yaw': 2.252845525741577,\n",
       "   'Pitch': -7.311600208282471},\n",
       "  'Quality': {'Brightness': 46.9129638671875, 'Sharpness': 76.30530548095703},\n",
       "  'Confidence': 99.99072265625}]"
      ]
     },
     "execution_count": 66,
     "metadata": {},
     "output_type": "execute_result"
    }
   ],
   "source": [
    "rekognition_response[\"FaceDetails\"]"
   ]
  },
  {
   "cell_type": "code",
   "execution_count": null,
   "metadata": {},
   "outputs": [],
   "source": []
  }
 ],
 "metadata": {
  "kernelspec": {
   "display_name": "Python [default]",
   "language": "python",
   "name": "python3"
  },
  "language_info": {
   "codemirror_mode": {
    "name": "ipython",
    "version": 3
   },
   "file_extension": ".py",
   "mimetype": "text/x-python",
   "name": "python",
   "nbconvert_exporter": "python",
   "pygments_lexer": "ipython3",
   "version": "3.6.5"
  }
 },
 "nbformat": 4,
 "nbformat_minor": 2
}

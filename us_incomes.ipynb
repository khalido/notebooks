{
 "cells": [
  {
   "cell_type": "code",
   "execution_count": 10,
   "metadata": {},
   "outputs": [
    {
     "data": {
      "text/html": [
       "<div>\n",
       "<style>\n",
       "    .dataframe thead tr:only-child th {\n",
       "        text-align: right;\n",
       "    }\n",
       "\n",
       "    .dataframe thead th {\n",
       "        text-align: left;\n",
       "    }\n",
       "\n",
       "    .dataframe tbody tr th {\n",
       "        vertical-align: top;\n",
       "    }\n",
       "</style>\n",
       "<table border=\"1\" class=\"dataframe\">\n",
       "  <thead>\n",
       "    <tr style=\"text-align: right;\">\n",
       "      <th></th>\n",
       "      <th>id</th>\n",
       "      <th>county</th>\n",
       "      <th>pop_over_25</th>\n",
       "      <th>median_income</th>\n",
       "      <th>median_income_no_hs</th>\n",
       "      <th>median_income_hs</th>\n",
       "      <th>median_income_some_college</th>\n",
       "      <th>median_income_college</th>\n",
       "      <th>median_income_graduate_degree</th>\n",
       "    </tr>\n",
       "  </thead>\n",
       "  <tbody>\n",
       "    <tr>\n",
       "      <th>0</th>\n",
       "      <td>1001</td>\n",
       "      <td>Autauga County, Alabama</td>\n",
       "      <td>35696</td>\n",
       "      <td>34581</td>\n",
       "      <td>17946</td>\n",
       "      <td>30157</td>\n",
       "      <td>33225</td>\n",
       "      <td>53248</td>\n",
       "      <td>68125</td>\n",
       "    </tr>\n",
       "    <tr>\n",
       "      <th>1</th>\n",
       "      <td>1003</td>\n",
       "      <td>Baldwin County, Alabama</td>\n",
       "      <td>130063</td>\n",
       "      <td>31352</td>\n",
       "      <td>17474</td>\n",
       "      <td>25242</td>\n",
       "      <td>30922</td>\n",
       "      <td>46017</td>\n",
       "      <td>55933</td>\n",
       "    </tr>\n",
       "    <tr>\n",
       "      <th>2</th>\n",
       "      <td>1005</td>\n",
       "      <td>Barbour County, Alabama</td>\n",
       "      <td>18988</td>\n",
       "      <td>25182</td>\n",
       "      <td>20692</td>\n",
       "      <td>21325</td>\n",
       "      <td>24090</td>\n",
       "      <td>41888</td>\n",
       "      <td>50245</td>\n",
       "    </tr>\n",
       "    <tr>\n",
       "      <th>3</th>\n",
       "      <td>1007</td>\n",
       "      <td>Bibb County, Alabama</td>\n",
       "      <td>15340</td>\n",
       "      <td>27638</td>\n",
       "      <td>22274</td>\n",
       "      <td>28980</td>\n",
       "      <td>22387</td>\n",
       "      <td>30284</td>\n",
       "      <td>42236</td>\n",
       "    </tr>\n",
       "    <tr>\n",
       "      <th>4</th>\n",
       "      <td>1009</td>\n",
       "      <td>Blount County, Alabama</td>\n",
       "      <td>38846</td>\n",
       "      <td>32808</td>\n",
       "      <td>24870</td>\n",
       "      <td>27541</td>\n",
       "      <td>34660</td>\n",
       "      <td>48681</td>\n",
       "      <td>53664</td>\n",
       "    </tr>\n",
       "  </tbody>\n",
       "</table>\n",
       "</div>"
      ],
      "text/plain": [
       "     id                   county  pop_over_25  median_income  \\\n",
       "0  1001  Autauga County, Alabama        35696          34581   \n",
       "1  1003  Baldwin County, Alabama       130063          31352   \n",
       "2  1005  Barbour County, Alabama        18988          25182   \n",
       "3  1007     Bibb County, Alabama        15340          27638   \n",
       "4  1009   Blount County, Alabama        38846          32808   \n",
       "\n",
       "   median_income_no_hs  median_income_hs  median_income_some_college  \\\n",
       "0                17946             30157                       33225   \n",
       "1                17474             25242                       30922   \n",
       "2                20692             21325                       24090   \n",
       "3                22274             28980                       22387   \n",
       "4                24870             27541                       34660   \n",
       "\n",
       "   median_income_college  median_income_graduate_degree  \n",
       "0                  53248                          68125  \n",
       "1                  46017                          55933  \n",
       "2                  41888                          50245  \n",
       "3                  30284                          42236  \n",
       "4                  48681                          53664  "
      ]
     },
     "execution_count": 10,
     "metadata": {},
     "output_type": "execute_result"
    }
   ],
   "source": [
    "import pandas as pd\n",
    "import numpy as np\n",
    "import random\n",
    "import matplotlib.pyplot as plt\n",
    "%matplotlib inline\n",
    "\n",
    "income = pd.read_csv(\"data/us_income.csv\")\n",
    "income.head()"
   ]
  },
  {
   "cell_type": "code",
   "execution_count": 11,
   "metadata": {},
   "outputs": [
    {
     "name": "stdout",
     "output_type": "stream",
     "text": [
      "<class 'pandas.core.frame.DataFrame'>\n",
      "RangeIndex: 3143 entries, 0 to 3142\n",
      "Data columns (total 9 columns):\n",
      "id                               3143 non-null int64\n",
      "county                           3143 non-null object\n",
      "pop_over_25                      3143 non-null int64\n",
      "median_income                    3143 non-null int64\n",
      "median_income_no_hs              3143 non-null int64\n",
      "median_income_hs                 3143 non-null int64\n",
      "median_income_some_college       3143 non-null int64\n",
      "median_income_college            3143 non-null int64\n",
      "median_income_graduate_degree    3143 non-null int64\n",
      "dtypes: int64(8), object(1)\n",
      "memory usage: 221.1+ KB\n"
     ]
    }
   ],
   "source": [
    "income.info()"
   ]
  },
  {
   "cell_type": "code",
   "execution_count": 30,
   "metadata": {},
   "outputs": [
    {
     "name": "stdout",
     "output_type": "stream",
     "text": [
      "<class 'pandas.core.frame.DataFrame'>\n",
      "Int64Index: 100 entries, 550 to 1610\n",
      "Data columns (total 9 columns):\n",
      "id                               100 non-null int64\n",
      "county                           100 non-null object\n",
      "pop_over_25                      100 non-null int64\n",
      "median_income                    100 non-null int64\n",
      "median_income_no_hs              100 non-null int64\n",
      "median_income_hs                 100 non-null int64\n",
      "median_income_some_college       100 non-null int64\n",
      "median_income_college            100 non-null int64\n",
      "median_income_graduate_degree    100 non-null int64\n",
      "dtypes: int64(8), object(1)\n",
      "memory usage: 7.8+ KB\n"
     ]
    }
   ],
   "source": [
    "def select_random_sample(count):\n",
    "    random_indices = random.sample(range(0, income.shape[0]), count)\n",
    "    return income.iloc[random_indices]\n",
    "\n",
    "random.seed(1)\n",
    "\n",
    "samples = [select_random_sample(100) for _ in range(1000)]\n",
    "samples[0].info()"
   ]
  },
  {
   "cell_type": "code",
   "execution_count": 22,
   "metadata": {},
   "outputs": [],
   "source": [
    "ratios = [x[\"median_income_hs\"] / x[\"median_income_college\"] for x in samples]"
   ]
  },
  {
   "cell_type": "code",
   "execution_count": 25,
   "metadata": {},
   "outputs": [
    {
     "data": {
      "text/plain": [
       "[0.6617618960443947,\n",
       " 0.6618460825551545,\n",
       " 0.6226856895546148,\n",
       " 0.6307432283889965,\n",
       " 0.6439381958117878,\n",
       " 0.6734061585086245,\n",
       " 0.6369823637664075,\n",
       " 0.6572341528540158,\n",
       " 0.6546860987473702,\n",
       " 0.6429906496300875]"
      ]
     },
     "execution_count": 25,
     "metadata": {},
     "output_type": "execute_result"
    }
   ],
   "source": [
    "mean_ratios = [np.mean(x) for x in ratios]\n",
    "mean_ratios[:10]"
   ]
  },
  {
   "cell_type": "code",
   "execution_count": 29,
   "metadata": {},
   "outputs": [
    {
     "data": {
      "image/png": "[encoded data removed]",
      "text/plain": [
       "<matplotlib.figure.Figure at 0x116b14ac8>"
      ]
     },
     "metadata": {},
     "output_type": "display_data"
    }
   ],
   "source": [
    "plt.hist(mean_ratios,20)\n",
    "plt.show()"
   ]
  },
  {
   "cell_type": "code",
   "execution_count": 37,
   "metadata": {},
   "outputs": [
    {
     "data": {
      "text/plain": [
       "0.014"
      ]
     },
     "execution_count": 37,
     "metadata": {},
     "output_type": "execute_result"
    }
   ],
   "source": [
    "len([r for r in mean_ratios if r >= .675]) / len(mean_ratios)"
   ]
  },
  {
   "cell_type": "code",
   "execution_count": 39,
   "metadata": {},
   "outputs": [
    {
     "data": {
      "image/png": "[encoded data removed]",
      "text/plain": [
       "<matplotlib.figure.Figure at 0x1152ceeb8>"
      ]
     },
     "metadata": {},
     "output_type": "display_data"
    }
   ],
   "source": [
    "# This is \"steeper\" than the graph from before, because it has 500 items in each sample.\n",
    "random.seed(1)\n",
    "mean_ratios = []\n",
    "\n",
    "for i in range(1000):\n",
    "    sample = select_random_sample(500)\n",
    "    ratios = sample[\"median_income_hs\"] / sample[\"median_income_college\"]\n",
    "    mean_ratios.append(ratios.mean())\n",
    "    \n",
    "plt.hist(mean_ratios, 20);"
   ]
  },
  {
   "cell_type": "code",
   "execution_count": null,
   "metadata": {
    "collapsed": true
   },
   "outputs": [],
   "source": []
  }
 ],
 "metadata": {
  "kernelspec": {
   "display_name": "Python 3",
   "language": "python",
   "name": "python3"
  },
  "language_info": {
   "codemirror_mode": {
    "name": "ipython",
    "version": 3
   },
   "file_extension": ".py",
   "mimetype": "text/x-python",
   "name": "python",
   "nbconvert_exporter": "python",
   "pygments_lexer": "ipython3",
   "version": "3.6.1"
  }
 },
 "nbformat": 4,
 "nbformat_minor": 2
}

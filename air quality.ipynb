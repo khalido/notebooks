{
 "cells": [
  {
   "cell_type": "code",
   "execution_count": 182,
   "metadata": {
    "collapsed": true
   },
   "outputs": [],
   "source": [
    "# the viz stuff\n",
    "%matplotlib inline\n",
    "import matplotlib.pyplot as plt\n",
    "import seaborn as sns\n",
    "from IPython import display\n",
    "\n",
    "# cause data\n",
    "import pandas as pd\n",
    "import numpy as np\n",
    "\n",
    "# talk to the web\n",
    "import requests\n",
    "\n",
    "# api keys are in config_air.ini to keep them outside of this public notebook\n",
    "import configparser"
   ]
  },
  {
   "cell_type": "markdown",
   "metadata": {},
   "source": [
    "# First, reading in the api keys\n",
    "\n",
    "doing it so the code can be pushed to github without plastering api keys all over the interwebs"
   ]
  },
  {
   "cell_type": "code",
   "execution_count": 183,
   "metadata": {},
   "outputs": [
    {
     "name": "stdout",
     "output_type": "stream",
     "text": [
      "Successfully imported airvisual api key\n"
     ]
    }
   ],
   "source": [
    "config = configparser.ConfigParser()\n",
    "config.read('config_air.ini')\n",
    "\n",
    "try:\n",
    "    air_visual_api_key = config['AirVisual'][\"api_key\"]\n",
    "except KeyError:\n",
    "    print(\"Missing Key AirVisual in the config_air.ini file\")\n",
    "\n",
    "if air_visual_api_key is not None:\n",
    "    print(\"Successfully imported airvisual api key\")"
   ]
  },
  {
   "cell_type": "markdown",
   "metadata": {},
   "source": [
    "# getting the air quality data from air visual\n",
    "\n",
    "AirVisual stations in Pakistan: https://airvisual.com/pakistan"
   ]
  },
  {
   "cell_type": "code",
   "execution_count": 200,
   "metadata": {},
   "outputs": [
    {
     "name": "stdout",
     "output_type": "stream",
     "text": [
      "{\"status\":\"success\",\"data\":{\"city\":\"Karachi\",\"state\":\"Sindh\",\"country\":\"Pakistan\",\"location\":{\"type\":\"Point\",\"coordinates\":[67.05294147133827,24.818095393631435]},\"current\":{\"weather\":{\"ts\":\"2017-09-26T03:00:00.000Z\",\"tp\":27,\"pr\":1008,\"hu\":74,\"ws\":1,\"ic\":\"03d\"},\"pollution\":{\"ts\":\"2017-09-26T04:00:00.000Z\",\"aqius\":54,\"mainus\":\"p2\",\"aqicn\":19,\"maincn\":\"p2\"}}}}\n"
     ]
    }
   ],
   "source": [
    "# http://api.airvisual.com/v2/nearest_city?lat=Value&lon=Value&rad=Value&key=YourAPIKey\n",
    "    \n",
    "lat, long = 24.861462, 67.009939 # coordinates for Karachi\n",
    "url = \"http://api.airvisual.com/v2/nearest_city\"\n",
    "payload = {\"lat\": lat, \"lon\": long, \"rad\": 20, \"key\": air_visual_api_key}\n",
    "r = requests.get(url, params=payload)\n",
    "print(r.text)"
   ]
  },
  {
   "cell_type": "markdown",
   "metadata": {},
   "source": [
    "Lets make a function out of this which returns the data dic:"
   ]
  },
  {
   "cell_type": "code",
   "execution_count": 221,
   "metadata": {},
   "outputs": [
    {
     "data": {
      "text/plain": [
       "('31.5195822', '74.326297')"
      ]
     },
     "execution_count": 221,
     "metadata": {},
     "output_type": "execute_result"
    }
   ],
   "source": [
    "cities_loc[\"lahore\"]"
   ]
  },
  {
   "cell_type": "code",
   "execution_count": 287,
   "metadata": {},
   "outputs": [
    {
     "name": "stdout",
     "output_type": "stream",
     "text": [
      "Karachi\n"
     ]
    },
    {
     "data": {
      "text/plain": [
       "{'aqicn': 20,\n",
       " 'aqius': 54,\n",
       " 'maincn': 'p2',\n",
       " 'mainus': 'p2',\n",
       " 'ts': '2017-09-26T05:00:00.000Z'}"
      ]
     },
     "execution_count": 287,
     "metadata": {},
     "output_type": "execute_result"
    }
   ],
   "source": [
    "def get_air_quality(lat=24.861462, long=67.009939, rad=30):\n",
    "    \"\"\"takes in lat, long and returns air quality \n",
    "       defaults to Karachi if no lat/long passed in\"\"\"\n",
    "    url = \"http://api.airvisual.com/v2/nearest_city\"\n",
    "    payload = {\"lat\": lat, \"lon\": long, \"rad\": rad, \"key\": air_visual_api_key}\n",
    "    r = requests.get(url, params=payload)\n",
    "    \n",
    "    if r.status_code == requests.codes.ok:\n",
    "        return r.json()[\"data\"]\n",
    "    else:\n",
    "        return \"something went wrong\"\n",
    "\n",
    "q = get_air_quality()\n",
    "print(q[\"city\"])\n",
    "q[\"current\"][\"pollution\"]"
   ]
  },
  {
   "cell_type": "markdown",
   "metadata": {},
   "source": [
    "# getting lat/long from a city name\n",
    "\n",
    "Ideally we want the user to type in a city and it looks for that:"
   ]
  },
  {
   "cell_type": "code",
   "execution_count": 288,
   "metadata": {},
   "outputs": [
    {
     "data": {
      "text/plain": [
       "{'islamabad': (22.3307998, 91.8412863),\n",
       " 'karachi': (25.147872, 67.1821931713384),\n",
       " 'lahore': (31.5195822, 74.326297),\n",
       " 'peshawar': (34.0123846, 71.5787458)}"
      ]
     },
     "execution_count": 288,
     "metadata": {},
     "output_type": "execute_result"
    }
   ],
   "source": [
    "def get_lat_long(query=\"Karachi\"):\n",
    "    \"\"\"takes in a city name and returns lat long\n",
    "       usin osm lookup\"\"\"\n",
    "    \n",
    "    # return from dict if already looked this up\n",
    "    if query.lower() in cities_loc:\n",
    "        return cities_loc[query.lower()]\n",
    "    \n",
    "    # find the lat long \n",
    "    url = \"http://nominatim.openstreetmap.org/search\"\n",
    "    payload = {\"format\": \"json\", \"q\": query, \"country\": \"Pakistan\", \"limit\": 1}\n",
    "    r = requests.get(url, params=payload)\n",
    "    \n",
    "    try:\n",
    "        d = r.json()[0]\n",
    "    except:\n",
    "        return False\n",
    "    \n",
    "    return float(d[\"lat\"]), float(d[\"lon\"])\n",
    "    \n",
    "cities = [\"karachi\", \"lahore\", \"islamabad\", \"peshawar\"]\n",
    "cities_loc = {city: get_lat_long(city) for city in cities}\n",
    "cities_loc"
   ]
  },
  {
   "cell_type": "markdown",
   "metadata": {},
   "source": [
    "# a comparision"
   ]
  },
  {
   "cell_type": "code",
   "execution_count": 289,
   "metadata": {},
   "outputs": [
    {
     "data": {
      "text/plain": [
       "('Peshawar',\n",
       " {'aqicn': 182,\n",
       "  'aqius': 193,\n",
       "  'maincn': 'p2',\n",
       "  'mainus': 'p2',\n",
       "  'ts': '2017-09-26T05:00:00.000Z'})"
      ]
     },
     "execution_count": 289,
     "metadata": {},
     "output_type": "execute_result"
    }
   ],
   "source": [
    "def air_quality(query=\"Karachi\"):\n",
    "    \"\"\"takes in a city name and returns the air data\"\"\"\n",
    "    latitude, longitude = get_lat_long(query)\n",
    "    q = get_air_quality(latitude, longitude)\n",
    "    return q[\"city\"], q[\"current\"][\"pollution\"]\n",
    "    \n",
    "city, pollution = air_quality(\"peshawar\")\n",
    "city, pollution"
   ]
  },
  {
   "cell_type": "code",
   "execution_count": 290,
   "metadata": {},
   "outputs": [
    {
     "name": "stdout",
     "output_type": "stream",
     "text": [
      "karachi\n"
     ]
    },
    {
     "ename": "TypeError",
     "evalue": "string indices must be integers",
     "output_type": "error",
     "traceback": [
      "\u001b[0;31m---------------------------------------------------------------------------\u001b[0m",
      "\u001b[0;31mTypeError\u001b[0m                                 Traceback (most recent call last)",
      "\u001b[0;32m<ipython-input-290-1644db88ea7b>\u001b[0m in \u001b[0;36m<module>\u001b[0;34m()\u001b[0m\n\u001b[1;32m      1\u001b[0m \u001b[0;32mfor\u001b[0m \u001b[0mcity\u001b[0m \u001b[0;32min\u001b[0m \u001b[0mcities\u001b[0m\u001b[0;34m:\u001b[0m\u001b[0;34m\u001b[0m\u001b[0m\n\u001b[1;32m      2\u001b[0m     \u001b[0mprint\u001b[0m\u001b[0;34m(\u001b[0m\u001b[0mcity\u001b[0m\u001b[0;34m)\u001b[0m\u001b[0;34m\u001b[0m\u001b[0m\n\u001b[0;32m----> 3\u001b[0;31m     \u001b[0mcity\u001b[0m\u001b[0;34m,\u001b[0m \u001b[0mpollution\u001b[0m \u001b[0;34m=\u001b[0m \u001b[0mair_quality\u001b[0m\u001b[0;34m(\u001b[0m\u001b[0mcity\u001b[0m\u001b[0;34m)\u001b[0m\u001b[0;34m\u001b[0m\u001b[0m\n\u001b[0m\u001b[1;32m      4\u001b[0m     \u001b[0mprint\u001b[0m\u001b[0;34m(\u001b[0m\u001b[0mpollution\u001b[0m\u001b[0;34m[\u001b[0m\u001b[0;34m\"aqius\"\u001b[0m\u001b[0;34m]\u001b[0m\u001b[0;34m)\u001b[0m\u001b[0;34m\u001b[0m\u001b[0m\n",
      "\u001b[0;32m<ipython-input-289-36141a951e66>\u001b[0m in \u001b[0;36mair_quality\u001b[0;34m(query)\u001b[0m\n\u001b[1;32m      3\u001b[0m     \u001b[0mlatitude\u001b[0m\u001b[0;34m,\u001b[0m \u001b[0mlongitude\u001b[0m \u001b[0;34m=\u001b[0m \u001b[0mget_lat_long\u001b[0m\u001b[0;34m(\u001b[0m\u001b[0mquery\u001b[0m\u001b[0;34m)\u001b[0m\u001b[0;34m\u001b[0m\u001b[0m\n\u001b[1;32m      4\u001b[0m     \u001b[0mq\u001b[0m \u001b[0;34m=\u001b[0m \u001b[0mget_air_quality\u001b[0m\u001b[0;34m(\u001b[0m\u001b[0mlatitude\u001b[0m\u001b[0;34m,\u001b[0m \u001b[0mlongitude\u001b[0m\u001b[0;34m)\u001b[0m\u001b[0;34m\u001b[0m\u001b[0m\n\u001b[0;32m----> 5\u001b[0;31m     \u001b[0;32mreturn\u001b[0m \u001b[0mq\u001b[0m\u001b[0;34m[\u001b[0m\u001b[0;34m\"city\"\u001b[0m\u001b[0;34m]\u001b[0m\u001b[0;34m,\u001b[0m \u001b[0mq\u001b[0m\u001b[0;34m[\u001b[0m\u001b[0;34m\"current\"\u001b[0m\u001b[0;34m]\u001b[0m\u001b[0;34m[\u001b[0m\u001b[0;34m\"pollution\"\u001b[0m\u001b[0;34m]\u001b[0m\u001b[0;34m\u001b[0m\u001b[0m\n\u001b[0m\u001b[1;32m      6\u001b[0m \u001b[0;34m\u001b[0m\u001b[0m\n\u001b[1;32m      7\u001b[0m \u001b[0mcity\u001b[0m\u001b[0;34m,\u001b[0m \u001b[0mpollution\u001b[0m \u001b[0;34m=\u001b[0m \u001b[0mair_quality\u001b[0m\u001b[0;34m(\u001b[0m\u001b[0;34m\"peshawar\"\u001b[0m\u001b[0;34m)\u001b[0m\u001b[0;34m\u001b[0m\u001b[0m\n",
      "\u001b[0;31mTypeError\u001b[0m: string indices must be integers"
     ]
    }
   ],
   "source": [
    "for city in cities:\n",
    "    print(city)\n",
    "    city, pollution = air_quality(city)\n",
    "    print(pollution[\"aqius\"])"
   ]
  },
  {
   "cell_type": "code",
   "execution_count": null,
   "metadata": {
    "collapsed": true
   },
   "outputs": [],
   "source": []
  }
 ],
 "metadata": {
  "kernelspec": {
   "display_name": "Python 3",
   "language": "python",
   "name": "python3"
  },
  "language_info": {
   "codemirror_mode": {
    "name": "ipython",
    "version": 3
   },
   "file_extension": ".py",
   "mimetype": "text/x-python",
   "name": "python",
   "nbconvert_exporter": "python",
   "pygments_lexer": "ipython3",
   "version": "3.6.1"
  }
 },
 "nbformat": 4,
 "nbformat_minor": 2
}
